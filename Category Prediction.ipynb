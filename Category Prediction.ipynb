{
 "cells": [
  {
   "cell_type": "markdown",
   "metadata": {},
   "source": [
    "# Part I: Data Gathering and Preprocessing"
   ]
  },
  {
   "cell_type": "markdown",
   "metadata": {},
   "source": [
    "### Importing Libraries"
   ]
  },
  {
   "cell_type": "code",
   "execution_count": 5,
   "metadata": {},
   "outputs": [],
   "source": [
    "import numpy as np\n",
    "import pandas as pd\n",
    "import collections\n",
    "import re\n",
    "from nltk.stem import WordNetLemmatizer\n",
    "from sklearn.feature_extraction.text import CountVectorizer\n",
    "from sklearn.model_selection import train_test_split\n",
    "from sklearn.metrics import accuracy_score\n",
    "from sklearn.metrics import f1_score"
   ]
  },
  {
   "cell_type": "markdown",
   "metadata": {},
   "source": [
    "### Importing scikit-learn classifiers"
   ]
  },
  {
   "cell_type": "code",
   "execution_count": 6,
   "metadata": {},
   "outputs": [],
   "source": [
    "from sklearn.naive_bayes import MultinomialNB\n",
    "from sklearn.ensemble import RandomForestClassifier\n",
    "from sklearn.svm import SVC\n",
    "from sklearn.neighbors import KNeighborsClassifier\n",
    "from sklearn.tree import DecisionTreeClassifier\n"
   ]
  },
  {
   "cell_type": "markdown",
   "metadata": {},
   "source": [
    "### Importing Data"
   ]
  },
  {
   "cell_type": "code",
   "execution_count": 7,
   "metadata": {},
   "outputs": [
    {
     "data": {
      "text/html": [
       "<div>\n",
       "<style scoped>\n",
       "    .dataframe tbody tr th:only-of-type {\n",
       "        vertical-align: middle;\n",
       "    }\n",
       "\n",
       "    .dataframe tbody tr th {\n",
       "        vertical-align: top;\n",
       "    }\n",
       "\n",
       "    .dataframe thead th {\n",
       "        text-align: right;\n",
       "    }\n",
       "</style>\n",
       "<table border=\"1\" class=\"dataframe\">\n",
       "  <thead>\n",
       "    <tr style=\"text-align: right;\">\n",
       "      <th></th>\n",
       "      <th>video_id</th>\n",
       "      <th>title</th>\n",
       "      <th>publishedAt</th>\n",
       "      <th>channelId</th>\n",
       "      <th>channelTitle</th>\n",
       "      <th>categoryId</th>\n",
       "      <th>trending_date</th>\n",
       "      <th>tags</th>\n",
       "      <th>view_count</th>\n",
       "      <th>likes</th>\n",
       "      <th>dislikes</th>\n",
       "      <th>comment_count</th>\n",
       "      <th>thumbnail_link</th>\n",
       "      <th>comments_disabled</th>\n",
       "      <th>ratings_disabled</th>\n",
       "      <th>description</th>\n",
       "    </tr>\n",
       "  </thead>\n",
       "  <tbody>\n",
       "    <tr>\n",
       "      <th>0</th>\n",
       "      <td>3C66w5Z0ixs</td>\n",
       "      <td>I ASKED HER TO BE MY GIRLFRIEND...</td>\n",
       "      <td>2020-08-11T19:20:14Z</td>\n",
       "      <td>UCvtRTOMP2TqYqu51xNrqAzg</td>\n",
       "      <td>Brawadis</td>\n",
       "      <td>22</td>\n",
       "      <td>2020-08-12T00:00:00Z</td>\n",
       "      <td>brawadis|prank|basketball|skits|ghost|funny vi...</td>\n",
       "      <td>1514614</td>\n",
       "      <td>156908</td>\n",
       "      <td>5855</td>\n",
       "      <td>35313</td>\n",
       "      <td>https://i.ytimg.com/vi/3C66w5Z0ixs/default.jpg</td>\n",
       "      <td>False</td>\n",
       "      <td>False</td>\n",
       "      <td>SUBSCRIBE to BRAWADIS ▶ http://bit.ly/Subscrib...</td>\n",
       "    </tr>\n",
       "    <tr>\n",
       "      <th>1</th>\n",
       "      <td>M9Pmf9AB4Mo</td>\n",
       "      <td>Apex Legends | Stories from the Outlands – “Th...</td>\n",
       "      <td>2020-08-11T17:00:10Z</td>\n",
       "      <td>UC0ZV6M2THA81QT9hrVWJG3A</td>\n",
       "      <td>Apex Legends</td>\n",
       "      <td>20</td>\n",
       "      <td>2020-08-12T00:00:00Z</td>\n",
       "      <td>Apex Legends|Apex Legends characters|new Apex ...</td>\n",
       "      <td>2381688</td>\n",
       "      <td>146739</td>\n",
       "      <td>2794</td>\n",
       "      <td>16549</td>\n",
       "      <td>https://i.ytimg.com/vi/M9Pmf9AB4Mo/default.jpg</td>\n",
       "      <td>False</td>\n",
       "      <td>False</td>\n",
       "      <td>While running her own modding shop, Ramya Pare...</td>\n",
       "    </tr>\n",
       "    <tr>\n",
       "      <th>2</th>\n",
       "      <td>J78aPJ3VyNs</td>\n",
       "      <td>I left youtube for a month and THIS is what ha...</td>\n",
       "      <td>2020-08-11T16:34:06Z</td>\n",
       "      <td>UCYzPXprvl5Y-Sf0g4vX-m6g</td>\n",
       "      <td>jacksepticeye</td>\n",
       "      <td>24</td>\n",
       "      <td>2020-08-12T00:00:00Z</td>\n",
       "      <td>jacksepticeye|funny|funny meme|memes|jacksepti...</td>\n",
       "      <td>2038853</td>\n",
       "      <td>353787</td>\n",
       "      <td>2628</td>\n",
       "      <td>40221</td>\n",
       "      <td>https://i.ytimg.com/vi/J78aPJ3VyNs/default.jpg</td>\n",
       "      <td>False</td>\n",
       "      <td>False</td>\n",
       "      <td>I left youtube for a month and this is what ha...</td>\n",
       "    </tr>\n",
       "    <tr>\n",
       "      <th>3</th>\n",
       "      <td>kXLn3HkpjaA</td>\n",
       "      <td>XXL 2020 Freshman Class Revealed - Official An...</td>\n",
       "      <td>2020-08-11T16:38:55Z</td>\n",
       "      <td>UCbg_UMjlHJg_19SZckaKajg</td>\n",
       "      <td>XXL</td>\n",
       "      <td>10</td>\n",
       "      <td>2020-08-12T00:00:00Z</td>\n",
       "      <td>xxl freshman|xxl freshmen|2020 xxl freshman|20...</td>\n",
       "      <td>496771</td>\n",
       "      <td>23251</td>\n",
       "      <td>1856</td>\n",
       "      <td>7647</td>\n",
       "      <td>https://i.ytimg.com/vi/kXLn3HkpjaA/default.jpg</td>\n",
       "      <td>False</td>\n",
       "      <td>False</td>\n",
       "      <td>Subscribe to XXL → http://bit.ly/subscribe-xxl...</td>\n",
       "    </tr>\n",
       "    <tr>\n",
       "      <th>4</th>\n",
       "      <td>VIUo6yapDbc</td>\n",
       "      <td>Ultimate DIY Home Movie Theater for The LaBran...</td>\n",
       "      <td>2020-08-11T15:10:05Z</td>\n",
       "      <td>UCDVPcEbVLQgLZX0Rt6jo34A</td>\n",
       "      <td>Mr. Kate</td>\n",
       "      <td>26</td>\n",
       "      <td>2020-08-12T00:00:00Z</td>\n",
       "      <td>The LaBrant Family|DIY|Interior Design|Makeove...</td>\n",
       "      <td>1123889</td>\n",
       "      <td>45802</td>\n",
       "      <td>964</td>\n",
       "      <td>2196</td>\n",
       "      <td>https://i.ytimg.com/vi/VIUo6yapDbc/default.jpg</td>\n",
       "      <td>False</td>\n",
       "      <td>False</td>\n",
       "      <td>Transforming The LaBrant Family's empty white ...</td>\n",
       "    </tr>\n",
       "  </tbody>\n",
       "</table>\n",
       "</div>"
      ],
      "text/plain": [
       "      video_id                                              title  \\\n",
       "0  3C66w5Z0ixs                 I ASKED HER TO BE MY GIRLFRIEND...   \n",
       "1  M9Pmf9AB4Mo  Apex Legends | Stories from the Outlands – “Th...   \n",
       "2  J78aPJ3VyNs  I left youtube for a month and THIS is what ha...   \n",
       "3  kXLn3HkpjaA  XXL 2020 Freshman Class Revealed - Official An...   \n",
       "4  VIUo6yapDbc  Ultimate DIY Home Movie Theater for The LaBran...   \n",
       "\n",
       "            publishedAt                 channelId   channelTitle  categoryId  \\\n",
       "0  2020-08-11T19:20:14Z  UCvtRTOMP2TqYqu51xNrqAzg       Brawadis          22   \n",
       "1  2020-08-11T17:00:10Z  UC0ZV6M2THA81QT9hrVWJG3A   Apex Legends          20   \n",
       "2  2020-08-11T16:34:06Z  UCYzPXprvl5Y-Sf0g4vX-m6g  jacksepticeye          24   \n",
       "3  2020-08-11T16:38:55Z  UCbg_UMjlHJg_19SZckaKajg            XXL          10   \n",
       "4  2020-08-11T15:10:05Z  UCDVPcEbVLQgLZX0Rt6jo34A       Mr. Kate          26   \n",
       "\n",
       "          trending_date                                               tags  \\\n",
       "0  2020-08-12T00:00:00Z  brawadis|prank|basketball|skits|ghost|funny vi...   \n",
       "1  2020-08-12T00:00:00Z  Apex Legends|Apex Legends characters|new Apex ...   \n",
       "2  2020-08-12T00:00:00Z  jacksepticeye|funny|funny meme|memes|jacksepti...   \n",
       "3  2020-08-12T00:00:00Z  xxl freshman|xxl freshmen|2020 xxl freshman|20...   \n",
       "4  2020-08-12T00:00:00Z  The LaBrant Family|DIY|Interior Design|Makeove...   \n",
       "\n",
       "   view_count   likes  dislikes  comment_count  \\\n",
       "0     1514614  156908      5855          35313   \n",
       "1     2381688  146739      2794          16549   \n",
       "2     2038853  353787      2628          40221   \n",
       "3      496771   23251      1856           7647   \n",
       "4     1123889   45802       964           2196   \n",
       "\n",
       "                                   thumbnail_link  comments_disabled  \\\n",
       "0  https://i.ytimg.com/vi/3C66w5Z0ixs/default.jpg              False   \n",
       "1  https://i.ytimg.com/vi/M9Pmf9AB4Mo/default.jpg              False   \n",
       "2  https://i.ytimg.com/vi/J78aPJ3VyNs/default.jpg              False   \n",
       "3  https://i.ytimg.com/vi/kXLn3HkpjaA/default.jpg              False   \n",
       "4  https://i.ytimg.com/vi/VIUo6yapDbc/default.jpg              False   \n",
       "\n",
       "   ratings_disabled                                        description  \n",
       "0             False  SUBSCRIBE to BRAWADIS ▶ http://bit.ly/Subscrib...  \n",
       "1             False  While running her own modding shop, Ramya Pare...  \n",
       "2             False  I left youtube for a month and this is what ha...  \n",
       "3             False  Subscribe to XXL → http://bit.ly/subscribe-xxl...  \n",
       "4             False  Transforming The LaBrant Family's empty white ...  "
      ]
     },
     "execution_count": 7,
     "metadata": {},
     "output_type": "execute_result"
    }
   ],
   "source": [
    "video = pd.read_csv(\"US_youtube_trending_data.csv\", header=0)\n",
    "video.head(5)"
   ]
  },
  {
   "cell_type": "code",
   "execution_count": 8,
   "metadata": {},
   "outputs": [],
   "source": [
    "#Drop rows with missing values\n",
    "cleaned_data = video.dropna()\n",
    "#Removing Duplicates\n",
    "video.drop_duplicates(inplace=True)\n"
   ]
  },
  {
   "cell_type": "markdown",
   "metadata": {},
   "source": [
    "### Deleting unused columns and renaming the remaining columns"
   ]
  },
  {
   "cell_type": "code",
   "execution_count": 9,
   "metadata": {},
   "outputs": [],
   "source": [
    "new_columns = ['title', 'categoryId']\n",
    "new_video = video[new_columns]\n",
    "new_video.to_csv(\"new_Usvideos.csv\", index=False)\n",
    "new_video = pd.read_csv(\"new_Usvideos.csv\", header=0, names=['Title', 'Category_ID'])\n"
   ]
  },
  {
   "cell_type": "code",
   "execution_count": 10,
   "metadata": {},
   "outputs": [],
   "source": [
    "def preprocess_text(text):\n",
    "    text = text.lower()\n",
    "    text = re.sub(r'[^\\w\\s]', '', text)\n",
    "    lemmatizer = WordNetLemmatizer()\n",
    "    words = text.split()\n",
    "    lemmatized_words = [lemmatizer.lemmatize(word) for word in words]\n",
    "    return ' '.join(lemmatized_words)\n",
    "\n",
    "# Apply text preprocessing\n",
    "new_video['Title'] = new_video['Title'].apply(preprocess_text)"
   ]
  },
  {
   "cell_type": "markdown",
   "metadata": {},
   "source": [
    "### Importing JSON file"
   ]
  },
  {
   "cell_type": "code",
   "execution_count": 11,
   "metadata": {},
   "outputs": [
    {
     "data": {
      "text/html": [
       "<div>\n",
       "<style scoped>\n",
       "    .dataframe tbody tr th:only-of-type {\n",
       "        vertical-align: middle;\n",
       "    }\n",
       "\n",
       "    .dataframe tbody tr th {\n",
       "        vertical-align: top;\n",
       "    }\n",
       "\n",
       "    .dataframe thead th {\n",
       "        text-align: right;\n",
       "    }\n",
       "</style>\n",
       "<table border=\"1\" class=\"dataframe\">\n",
       "  <thead>\n",
       "    <tr style=\"text-align: right;\">\n",
       "      <th></th>\n",
       "      <th>kind</th>\n",
       "      <th>etag</th>\n",
       "      <th>items</th>\n",
       "    </tr>\n",
       "  </thead>\n",
       "  <tbody>\n",
       "    <tr>\n",
       "      <th>0</th>\n",
       "      <td>youtube#videoCategoryListResponse</td>\n",
       "      <td>HIrK3n45Uw2IYz9_U2-gK1OsXvo</td>\n",
       "      <td>{'kind': 'youtube#videoCategory', 'etag': 'IfW...</td>\n",
       "    </tr>\n",
       "    <tr>\n",
       "      <th>1</th>\n",
       "      <td>youtube#videoCategoryListResponse</td>\n",
       "      <td>HIrK3n45Uw2IYz9_U2-gK1OsXvo</td>\n",
       "      <td>{'kind': 'youtube#videoCategory', 'etag': '5XG...</td>\n",
       "    </tr>\n",
       "    <tr>\n",
       "      <th>2</th>\n",
       "      <td>youtube#videoCategoryListResponse</td>\n",
       "      <td>HIrK3n45Uw2IYz9_U2-gK1OsXvo</td>\n",
       "      <td>{'kind': 'youtube#videoCategory', 'etag': 'HCj...</td>\n",
       "    </tr>\n",
       "    <tr>\n",
       "      <th>3</th>\n",
       "      <td>youtube#videoCategoryListResponse</td>\n",
       "      <td>HIrK3n45Uw2IYz9_U2-gK1OsXvo</td>\n",
       "      <td>{'kind': 'youtube#videoCategory', 'etag': 'ra8...</td>\n",
       "    </tr>\n",
       "    <tr>\n",
       "      <th>4</th>\n",
       "      <td>youtube#videoCategoryListResponse</td>\n",
       "      <td>HIrK3n45Uw2IYz9_U2-gK1OsXvo</td>\n",
       "      <td>{'kind': 'youtube#videoCategory', 'etag': '7mq...</td>\n",
       "    </tr>\n",
       "  </tbody>\n",
       "</table>\n",
       "</div>"
      ],
      "text/plain": [
       "                                kind                         etag  \\\n",
       "0  youtube#videoCategoryListResponse  HIrK3n45Uw2IYz9_U2-gK1OsXvo   \n",
       "1  youtube#videoCategoryListResponse  HIrK3n45Uw2IYz9_U2-gK1OsXvo   \n",
       "2  youtube#videoCategoryListResponse  HIrK3n45Uw2IYz9_U2-gK1OsXvo   \n",
       "3  youtube#videoCategoryListResponse  HIrK3n45Uw2IYz9_U2-gK1OsXvo   \n",
       "4  youtube#videoCategoryListResponse  HIrK3n45Uw2IYz9_U2-gK1OsXvo   \n",
       "\n",
       "                                               items  \n",
       "0  {'kind': 'youtube#videoCategory', 'etag': 'IfW...  \n",
       "1  {'kind': 'youtube#videoCategory', 'etag': '5XG...  \n",
       "2  {'kind': 'youtube#videoCategory', 'etag': 'HCj...  \n",
       "3  {'kind': 'youtube#videoCategory', 'etag': 'ra8...  \n",
       "4  {'kind': 'youtube#videoCategory', 'etag': '7mq...  "
      ]
     },
     "execution_count": 11,
     "metadata": {},
     "output_type": "execute_result"
    }
   ],
   "source": [
    "category_json = pd.read_json(\"US_category_id.JSON\")\n",
    "category_json.head(5)"
   ]
  },
  {
   "cell_type": "markdown",
   "metadata": {},
   "source": [
    "### Creating a list of Dictionaries with ID and Category label mapping"
   ]
  },
  {
   "cell_type": "code",
   "execution_count": 12,
   "metadata": {},
   "outputs": [
    {
     "data": {
      "text/plain": [
       "[{'id': '1', 'title': 'Film & Animation'},\n",
       " {'id': '2', 'title': 'Autos & Vehicles'},\n",
       " {'id': '10', 'title': 'Music'},\n",
       " {'id': '15', 'title': 'Pets & Animals'},\n",
       " {'id': '17', 'title': 'Sports'},\n",
       " {'id': '18', 'title': 'Short Movies'},\n",
       " {'id': '19', 'title': 'Travel & Events'},\n",
       " {'id': '20', 'title': 'Gaming'},\n",
       " {'id': '21', 'title': 'Videoblogging'},\n",
       " {'id': '22', 'title': 'People & Blogs'},\n",
       " {'id': '23', 'title': 'Comedy'},\n",
       " {'id': '24', 'title': 'Entertainment'},\n",
       " {'id': '25', 'title': 'News & Politics'},\n",
       " {'id': '26', 'title': 'Howto & Style'},\n",
       " {'id': '27', 'title': 'Education'},\n",
       " {'id': '28', 'title': 'Science & Technology'},\n",
       " {'id': '29', 'title': 'Nonprofits & Activism'},\n",
       " {'id': '30', 'title': 'Movies'},\n",
       " {'id': '31', 'title': 'Anime/Animation'},\n",
       " {'id': '32', 'title': 'Action/Adventure'},\n",
       " {'id': '33', 'title': 'Classics'},\n",
       " {'id': '34', 'title': 'Comedy'},\n",
       " {'id': '35', 'title': 'Documentary'},\n",
       " {'id': '36', 'title': 'Drama'},\n",
       " {'id': '37', 'title': 'Family'},\n",
       " {'id': '38', 'title': 'Foreign'},\n",
       " {'id': '39', 'title': 'Horror'},\n",
       " {'id': '40', 'title': 'Sci-Fi/Fantasy'},\n",
       " {'id': '41', 'title': 'Thriller'},\n",
       " {'id': '42', 'title': 'Shorts'},\n",
       " {'id': '43', 'title': 'Shows'},\n",
       " {'id': '44', 'title': 'Trailers'}]"
      ]
     },
     "execution_count": 12,
     "metadata": {},
     "output_type": "execute_result"
    }
   ],
   "source": [
    "category_dict = [{'id': item['id'], 'title': item['snippet']['title']} for item in category_json['items']]\n",
    "category_dict"
   ]
  },
  {
   "cell_type": "markdown",
   "metadata": {},
   "source": [
    "### Creating a DataFrame for the Dictionary"
   ]
  },
  {
   "cell_type": "code",
   "execution_count": 13,
   "metadata": {},
   "outputs": [
    {
     "name": "stdout",
     "output_type": "stream",
     "text": [
      "0          Film & Animation\n",
      "1          Autos & Vehicles\n",
      "2                     Music\n",
      "3            Pets & Animals\n",
      "4                    Sports\n",
      "5              Short Movies\n",
      "6           Travel & Events\n",
      "7                    Gaming\n",
      "8             Videoblogging\n",
      "9            People & Blogs\n",
      "10                   Comedy\n",
      "11            Entertainment\n",
      "12          News & Politics\n",
      "13            Howto & Style\n",
      "14                Education\n",
      "15     Science & Technology\n",
      "16    Nonprofits & Activism\n",
      "17                   Movies\n",
      "18          Anime/Animation\n",
      "19         Action/Adventure\n",
      "20                 Classics\n",
      "21                   Comedy\n",
      "22              Documentary\n",
      "23                    Drama\n",
      "24                   Family\n",
      "25                  Foreign\n",
      "26                   Horror\n",
      "27           Sci-Fi/Fantasy\n",
      "28                 Thriller\n",
      "29                   Shorts\n",
      "30                    Shows\n",
      "31                 Trailers\n",
      "Name: Category, dtype: object\n"
     ]
    }
   ],
   "source": [
    "category_df = pd.DataFrame(category_dict)\n",
    "categories = category_df.rename(index=str, columns = {\"id\":\"Category_ID\",\"title\":\"Category\"})\n",
    "categories.head(5)\n",
    "print(categories.Category)"
   ]
  },
  {
   "cell_type": "markdown",
   "metadata": {},
   "source": [
    "# Part II: Training"
   ]
  },
  {
   "cell_type": "markdown",
   "metadata": {},
   "source": [
    "### Splitting 'title' into string of words using CountVectorizer"
   ]
  },
  {
   "cell_type": "code",
   "execution_count": 14,
   "metadata": {},
   "outputs": [],
   "source": [
    "vector = CountVectorizer()\n",
    "counts = vector.fit_transform(new_video['Title'].values)"
   ]
  },
  {
   "cell_type": "markdown",
   "metadata": {},
   "source": [
    "### Using various classification models and targetting 'Category'"
   ]
  },
  {
   "cell_type": "code",
   "execution_count": 58,
   "metadata": {},
   "outputs": [],
   "source": [
    "NB_Model = MultinomialNB()\n",
    "RFC_Model = RandomForestClassifier()\n",
    "SVC_Model = SVC()\n",
    "KNC_Model = KNeighborsClassifier()\n",
    "DTC_Model = DecisionTreeClassifier()\n"
   ]
  },
  {
   "cell_type": "code",
   "execution_count": 16,
   "metadata": {},
   "outputs": [],
   "source": [
    "output = new_video['Category_ID'].values"
   ]
  },
  {
   "cell_type": "code",
   "execution_count": 17,
   "metadata": {},
   "outputs": [
    {
     "data": {
      "text/html": [
       "<style>#sk-container-id-1 {color: black;}#sk-container-id-1 pre{padding: 0;}#sk-container-id-1 div.sk-toggleable {background-color: white;}#sk-container-id-1 label.sk-toggleable__label {cursor: pointer;display: block;width: 100%;margin-bottom: 0;padding: 0.3em;box-sizing: border-box;text-align: center;}#sk-container-id-1 label.sk-toggleable__label-arrow:before {content: \"▸\";float: left;margin-right: 0.25em;color: #696969;}#sk-container-id-1 label.sk-toggleable__label-arrow:hover:before {color: black;}#sk-container-id-1 div.sk-estimator:hover label.sk-toggleable__label-arrow:before {color: black;}#sk-container-id-1 div.sk-toggleable__content {max-height: 0;max-width: 0;overflow: hidden;text-align: left;background-color: #f0f8ff;}#sk-container-id-1 div.sk-toggleable__content pre {margin: 0.2em;color: black;border-radius: 0.25em;background-color: #f0f8ff;}#sk-container-id-1 input.sk-toggleable__control:checked~div.sk-toggleable__content {max-height: 200px;max-width: 100%;overflow: auto;}#sk-container-id-1 input.sk-toggleable__control:checked~label.sk-toggleable__label-arrow:before {content: \"▾\";}#sk-container-id-1 div.sk-estimator input.sk-toggleable__control:checked~label.sk-toggleable__label {background-color: #d4ebff;}#sk-container-id-1 div.sk-label input.sk-toggleable__control:checked~label.sk-toggleable__label {background-color: #d4ebff;}#sk-container-id-1 input.sk-hidden--visually {border: 0;clip: rect(1px 1px 1px 1px);clip: rect(1px, 1px, 1px, 1px);height: 1px;margin: -1px;overflow: hidden;padding: 0;position: absolute;width: 1px;}#sk-container-id-1 div.sk-estimator {font-family: monospace;background-color: #f0f8ff;border: 1px dotted black;border-radius: 0.25em;box-sizing: border-box;margin-bottom: 0.5em;}#sk-container-id-1 div.sk-estimator:hover {background-color: #d4ebff;}#sk-container-id-1 div.sk-parallel-item::after {content: \"\";width: 100%;border-bottom: 1px solid gray;flex-grow: 1;}#sk-container-id-1 div.sk-label:hover label.sk-toggleable__label {background-color: #d4ebff;}#sk-container-id-1 div.sk-serial::before {content: \"\";position: absolute;border-left: 1px solid gray;box-sizing: border-box;top: 0;bottom: 0;left: 50%;z-index: 0;}#sk-container-id-1 div.sk-serial {display: flex;flex-direction: column;align-items: center;background-color: white;padding-right: 0.2em;padding-left: 0.2em;position: relative;}#sk-container-id-1 div.sk-item {position: relative;z-index: 1;}#sk-container-id-1 div.sk-parallel {display: flex;align-items: stretch;justify-content: center;background-color: white;position: relative;}#sk-container-id-1 div.sk-item::before, #sk-container-id-1 div.sk-parallel-item::before {content: \"\";position: absolute;border-left: 1px solid gray;box-sizing: border-box;top: 0;bottom: 0;left: 50%;z-index: -1;}#sk-container-id-1 div.sk-parallel-item {display: flex;flex-direction: column;z-index: 1;position: relative;background-color: white;}#sk-container-id-1 div.sk-parallel-item:first-child::after {align-self: flex-end;width: 50%;}#sk-container-id-1 div.sk-parallel-item:last-child::after {align-self: flex-start;width: 50%;}#sk-container-id-1 div.sk-parallel-item:only-child::after {width: 0;}#sk-container-id-1 div.sk-dashed-wrapped {border: 1px dashed gray;margin: 0 0.4em 0.5em 0.4em;box-sizing: border-box;padding-bottom: 0.4em;background-color: white;}#sk-container-id-1 div.sk-label label {font-family: monospace;font-weight: bold;display: inline-block;line-height: 1.2em;}#sk-container-id-1 div.sk-label-container {text-align: center;}#sk-container-id-1 div.sk-container {/* jupyter's `normalize.less` sets `[hidden] { display: none; }` but bootstrap.min.css set `[hidden] { display: none !important; }` so we also need the `!important` here to be able to override the default hidden behavior on the sphinx rendered scikit-learn.org. See: https://github.com/scikit-learn/scikit-learn/issues/21755 */display: inline-block !important;position: relative;}#sk-container-id-1 div.sk-text-repr-fallback {display: none;}</style><div id=\"sk-container-id-1\" class=\"sk-top-container\"><div class=\"sk-text-repr-fallback\"><pre>MultinomialNB()</pre><b>In a Jupyter environment, please rerun this cell to show the HTML representation or trust the notebook. <br />On GitHub, the HTML representation is unable to render, please try loading this page with nbviewer.org.</b></div><div class=\"sk-container\" hidden><div class=\"sk-item\"><div class=\"sk-estimator sk-toggleable\"><input class=\"sk-toggleable__control sk-hidden--visually\" id=\"sk-estimator-id-1\" type=\"checkbox\" checked><label for=\"sk-estimator-id-1\" class=\"sk-toggleable__label sk-toggleable__label-arrow\">MultinomialNB</label><div class=\"sk-toggleable__content\"><pre>MultinomialNB()</pre></div></div></div></div></div>"
      ],
      "text/plain": [
       "MultinomialNB()"
      ]
     },
     "execution_count": 17,
     "metadata": {},
     "output_type": "execute_result"
    }
   ],
   "source": [
    "NB_Model.fit(counts,output)"
   ]
  },
  {
   "cell_type": "code",
   "execution_count": 18,
   "metadata": {
    "scrolled": true
   },
   "outputs": [
    {
     "data": {
      "text/html": [
       "<style>#sk-container-id-2 {color: black;}#sk-container-id-2 pre{padding: 0;}#sk-container-id-2 div.sk-toggleable {background-color: white;}#sk-container-id-2 label.sk-toggleable__label {cursor: pointer;display: block;width: 100%;margin-bottom: 0;padding: 0.3em;box-sizing: border-box;text-align: center;}#sk-container-id-2 label.sk-toggleable__label-arrow:before {content: \"▸\";float: left;margin-right: 0.25em;color: #696969;}#sk-container-id-2 label.sk-toggleable__label-arrow:hover:before {color: black;}#sk-container-id-2 div.sk-estimator:hover label.sk-toggleable__label-arrow:before {color: black;}#sk-container-id-2 div.sk-toggleable__content {max-height: 0;max-width: 0;overflow: hidden;text-align: left;background-color: #f0f8ff;}#sk-container-id-2 div.sk-toggleable__content pre {margin: 0.2em;color: black;border-radius: 0.25em;background-color: #f0f8ff;}#sk-container-id-2 input.sk-toggleable__control:checked~div.sk-toggleable__content {max-height: 200px;max-width: 100%;overflow: auto;}#sk-container-id-2 input.sk-toggleable__control:checked~label.sk-toggleable__label-arrow:before {content: \"▾\";}#sk-container-id-2 div.sk-estimator input.sk-toggleable__control:checked~label.sk-toggleable__label {background-color: #d4ebff;}#sk-container-id-2 div.sk-label input.sk-toggleable__control:checked~label.sk-toggleable__label {background-color: #d4ebff;}#sk-container-id-2 input.sk-hidden--visually {border: 0;clip: rect(1px 1px 1px 1px);clip: rect(1px, 1px, 1px, 1px);height: 1px;margin: -1px;overflow: hidden;padding: 0;position: absolute;width: 1px;}#sk-container-id-2 div.sk-estimator {font-family: monospace;background-color: #f0f8ff;border: 1px dotted black;border-radius: 0.25em;box-sizing: border-box;margin-bottom: 0.5em;}#sk-container-id-2 div.sk-estimator:hover {background-color: #d4ebff;}#sk-container-id-2 div.sk-parallel-item::after {content: \"\";width: 100%;border-bottom: 1px solid gray;flex-grow: 1;}#sk-container-id-2 div.sk-label:hover label.sk-toggleable__label {background-color: #d4ebff;}#sk-container-id-2 div.sk-serial::before {content: \"\";position: absolute;border-left: 1px solid gray;box-sizing: border-box;top: 0;bottom: 0;left: 50%;z-index: 0;}#sk-container-id-2 div.sk-serial {display: flex;flex-direction: column;align-items: center;background-color: white;padding-right: 0.2em;padding-left: 0.2em;position: relative;}#sk-container-id-2 div.sk-item {position: relative;z-index: 1;}#sk-container-id-2 div.sk-parallel {display: flex;align-items: stretch;justify-content: center;background-color: white;position: relative;}#sk-container-id-2 div.sk-item::before, #sk-container-id-2 div.sk-parallel-item::before {content: \"\";position: absolute;border-left: 1px solid gray;box-sizing: border-box;top: 0;bottom: 0;left: 50%;z-index: -1;}#sk-container-id-2 div.sk-parallel-item {display: flex;flex-direction: column;z-index: 1;position: relative;background-color: white;}#sk-container-id-2 div.sk-parallel-item:first-child::after {align-self: flex-end;width: 50%;}#sk-container-id-2 div.sk-parallel-item:last-child::after {align-self: flex-start;width: 50%;}#sk-container-id-2 div.sk-parallel-item:only-child::after {width: 0;}#sk-container-id-2 div.sk-dashed-wrapped {border: 1px dashed gray;margin: 0 0.4em 0.5em 0.4em;box-sizing: border-box;padding-bottom: 0.4em;background-color: white;}#sk-container-id-2 div.sk-label label {font-family: monospace;font-weight: bold;display: inline-block;line-height: 1.2em;}#sk-container-id-2 div.sk-label-container {text-align: center;}#sk-container-id-2 div.sk-container {/* jupyter's `normalize.less` sets `[hidden] { display: none; }` but bootstrap.min.css set `[hidden] { display: none !important; }` so we also need the `!important` here to be able to override the default hidden behavior on the sphinx rendered scikit-learn.org. See: https://github.com/scikit-learn/scikit-learn/issues/21755 */display: inline-block !important;position: relative;}#sk-container-id-2 div.sk-text-repr-fallback {display: none;}</style><div id=\"sk-container-id-2\" class=\"sk-top-container\"><div class=\"sk-text-repr-fallback\"><pre>RandomForestClassifier()</pre><b>In a Jupyter environment, please rerun this cell to show the HTML representation or trust the notebook. <br />On GitHub, the HTML representation is unable to render, please try loading this page with nbviewer.org.</b></div><div class=\"sk-container\" hidden><div class=\"sk-item\"><div class=\"sk-estimator sk-toggleable\"><input class=\"sk-toggleable__control sk-hidden--visually\" id=\"sk-estimator-id-2\" type=\"checkbox\" checked><label for=\"sk-estimator-id-2\" class=\"sk-toggleable__label sk-toggleable__label-arrow\">RandomForestClassifier</label><div class=\"sk-toggleable__content\"><pre>RandomForestClassifier()</pre></div></div></div></div></div>"
      ],
      "text/plain": [
       "RandomForestClassifier()"
      ]
     },
     "execution_count": 18,
     "metadata": {},
     "output_type": "execute_result"
    }
   ],
   "source": [
    "RFC_Model.fit(counts,output)"
   ]
  },
  {
   "cell_type": "code",
   "execution_count": 16,
   "metadata": {},
   "outputs": [
    {
     "data": {
      "text/html": [
       "<style>#sk-container-id-3 {color: black;}#sk-container-id-3 pre{padding: 0;}#sk-container-id-3 div.sk-toggleable {background-color: white;}#sk-container-id-3 label.sk-toggleable__label {cursor: pointer;display: block;width: 100%;margin-bottom: 0;padding: 0.3em;box-sizing: border-box;text-align: center;}#sk-container-id-3 label.sk-toggleable__label-arrow:before {content: \"▸\";float: left;margin-right: 0.25em;color: #696969;}#sk-container-id-3 label.sk-toggleable__label-arrow:hover:before {color: black;}#sk-container-id-3 div.sk-estimator:hover label.sk-toggleable__label-arrow:before {color: black;}#sk-container-id-3 div.sk-toggleable__content {max-height: 0;max-width: 0;overflow: hidden;text-align: left;background-color: #f0f8ff;}#sk-container-id-3 div.sk-toggleable__content pre {margin: 0.2em;color: black;border-radius: 0.25em;background-color: #f0f8ff;}#sk-container-id-3 input.sk-toggleable__control:checked~div.sk-toggleable__content {max-height: 200px;max-width: 100%;overflow: auto;}#sk-container-id-3 input.sk-toggleable__control:checked~label.sk-toggleable__label-arrow:before {content: \"▾\";}#sk-container-id-3 div.sk-estimator input.sk-toggleable__control:checked~label.sk-toggleable__label {background-color: #d4ebff;}#sk-container-id-3 div.sk-label input.sk-toggleable__control:checked~label.sk-toggleable__label {background-color: #d4ebff;}#sk-container-id-3 input.sk-hidden--visually {border: 0;clip: rect(1px 1px 1px 1px);clip: rect(1px, 1px, 1px, 1px);height: 1px;margin: -1px;overflow: hidden;padding: 0;position: absolute;width: 1px;}#sk-container-id-3 div.sk-estimator {font-family: monospace;background-color: #f0f8ff;border: 1px dotted black;border-radius: 0.25em;box-sizing: border-box;margin-bottom: 0.5em;}#sk-container-id-3 div.sk-estimator:hover {background-color: #d4ebff;}#sk-container-id-3 div.sk-parallel-item::after {content: \"\";width: 100%;border-bottom: 1px solid gray;flex-grow: 1;}#sk-container-id-3 div.sk-label:hover label.sk-toggleable__label {background-color: #d4ebff;}#sk-container-id-3 div.sk-serial::before {content: \"\";position: absolute;border-left: 1px solid gray;box-sizing: border-box;top: 0;bottom: 0;left: 50%;z-index: 0;}#sk-container-id-3 div.sk-serial {display: flex;flex-direction: column;align-items: center;background-color: white;padding-right: 0.2em;padding-left: 0.2em;position: relative;}#sk-container-id-3 div.sk-item {position: relative;z-index: 1;}#sk-container-id-3 div.sk-parallel {display: flex;align-items: stretch;justify-content: center;background-color: white;position: relative;}#sk-container-id-3 div.sk-item::before, #sk-container-id-3 div.sk-parallel-item::before {content: \"\";position: absolute;border-left: 1px solid gray;box-sizing: border-box;top: 0;bottom: 0;left: 50%;z-index: -1;}#sk-container-id-3 div.sk-parallel-item {display: flex;flex-direction: column;z-index: 1;position: relative;background-color: white;}#sk-container-id-3 div.sk-parallel-item:first-child::after {align-self: flex-end;width: 50%;}#sk-container-id-3 div.sk-parallel-item:last-child::after {align-self: flex-start;width: 50%;}#sk-container-id-3 div.sk-parallel-item:only-child::after {width: 0;}#sk-container-id-3 div.sk-dashed-wrapped {border: 1px dashed gray;margin: 0 0.4em 0.5em 0.4em;box-sizing: border-box;padding-bottom: 0.4em;background-color: white;}#sk-container-id-3 div.sk-label label {font-family: monospace;font-weight: bold;display: inline-block;line-height: 1.2em;}#sk-container-id-3 div.sk-label-container {text-align: center;}#sk-container-id-3 div.sk-container {/* jupyter's `normalize.less` sets `[hidden] { display: none; }` but bootstrap.min.css set `[hidden] { display: none !important; }` so we also need the `!important` here to be able to override the default hidden behavior on the sphinx rendered scikit-learn.org. See: https://github.com/scikit-learn/scikit-learn/issues/21755 */display: inline-block !important;position: relative;}#sk-container-id-3 div.sk-text-repr-fallback {display: none;}</style><div id=\"sk-container-id-3\" class=\"sk-top-container\"><div class=\"sk-text-repr-fallback\"><pre>SVC()</pre><b>In a Jupyter environment, please rerun this cell to show the HTML representation or trust the notebook. <br />On GitHub, the HTML representation is unable to render, please try loading this page with nbviewer.org.</b></div><div class=\"sk-container\" hidden><div class=\"sk-item\"><div class=\"sk-estimator sk-toggleable\"><input class=\"sk-toggleable__control sk-hidden--visually\" id=\"sk-estimator-id-3\" type=\"checkbox\" checked><label for=\"sk-estimator-id-3\" class=\"sk-toggleable__label sk-toggleable__label-arrow\">SVC</label><div class=\"sk-toggleable__content\"><pre>SVC()</pre></div></div></div></div></div>"
      ],
      "text/plain": [
       "SVC()"
      ]
     },
     "execution_count": 16,
     "metadata": {},
     "output_type": "execute_result"
    }
   ],
   "source": [
    "SVC_Model.fit(counts,output)"
   ]
  },
  {
   "cell_type": "code",
   "execution_count": 17,
   "metadata": {},
   "outputs": [
    {
     "data": {
      "text/html": [
       "<style>#sk-container-id-4 {color: black;}#sk-container-id-4 pre{padding: 0;}#sk-container-id-4 div.sk-toggleable {background-color: white;}#sk-container-id-4 label.sk-toggleable__label {cursor: pointer;display: block;width: 100%;margin-bottom: 0;padding: 0.3em;box-sizing: border-box;text-align: center;}#sk-container-id-4 label.sk-toggleable__label-arrow:before {content: \"▸\";float: left;margin-right: 0.25em;color: #696969;}#sk-container-id-4 label.sk-toggleable__label-arrow:hover:before {color: black;}#sk-container-id-4 div.sk-estimator:hover label.sk-toggleable__label-arrow:before {color: black;}#sk-container-id-4 div.sk-toggleable__content {max-height: 0;max-width: 0;overflow: hidden;text-align: left;background-color: #f0f8ff;}#sk-container-id-4 div.sk-toggleable__content pre {margin: 0.2em;color: black;border-radius: 0.25em;background-color: #f0f8ff;}#sk-container-id-4 input.sk-toggleable__control:checked~div.sk-toggleable__content {max-height: 200px;max-width: 100%;overflow: auto;}#sk-container-id-4 input.sk-toggleable__control:checked~label.sk-toggleable__label-arrow:before {content: \"▾\";}#sk-container-id-4 div.sk-estimator input.sk-toggleable__control:checked~label.sk-toggleable__label {background-color: #d4ebff;}#sk-container-id-4 div.sk-label input.sk-toggleable__control:checked~label.sk-toggleable__label {background-color: #d4ebff;}#sk-container-id-4 input.sk-hidden--visually {border: 0;clip: rect(1px 1px 1px 1px);clip: rect(1px, 1px, 1px, 1px);height: 1px;margin: -1px;overflow: hidden;padding: 0;position: absolute;width: 1px;}#sk-container-id-4 div.sk-estimator {font-family: monospace;background-color: #f0f8ff;border: 1px dotted black;border-radius: 0.25em;box-sizing: border-box;margin-bottom: 0.5em;}#sk-container-id-4 div.sk-estimator:hover {background-color: #d4ebff;}#sk-container-id-4 div.sk-parallel-item::after {content: \"\";width: 100%;border-bottom: 1px solid gray;flex-grow: 1;}#sk-container-id-4 div.sk-label:hover label.sk-toggleable__label {background-color: #d4ebff;}#sk-container-id-4 div.sk-serial::before {content: \"\";position: absolute;border-left: 1px solid gray;box-sizing: border-box;top: 0;bottom: 0;left: 50%;z-index: 0;}#sk-container-id-4 div.sk-serial {display: flex;flex-direction: column;align-items: center;background-color: white;padding-right: 0.2em;padding-left: 0.2em;position: relative;}#sk-container-id-4 div.sk-item {position: relative;z-index: 1;}#sk-container-id-4 div.sk-parallel {display: flex;align-items: stretch;justify-content: center;background-color: white;position: relative;}#sk-container-id-4 div.sk-item::before, #sk-container-id-4 div.sk-parallel-item::before {content: \"\";position: absolute;border-left: 1px solid gray;box-sizing: border-box;top: 0;bottom: 0;left: 50%;z-index: -1;}#sk-container-id-4 div.sk-parallel-item {display: flex;flex-direction: column;z-index: 1;position: relative;background-color: white;}#sk-container-id-4 div.sk-parallel-item:first-child::after {align-self: flex-end;width: 50%;}#sk-container-id-4 div.sk-parallel-item:last-child::after {align-self: flex-start;width: 50%;}#sk-container-id-4 div.sk-parallel-item:only-child::after {width: 0;}#sk-container-id-4 div.sk-dashed-wrapped {border: 1px dashed gray;margin: 0 0.4em 0.5em 0.4em;box-sizing: border-box;padding-bottom: 0.4em;background-color: white;}#sk-container-id-4 div.sk-label label {font-family: monospace;font-weight: bold;display: inline-block;line-height: 1.2em;}#sk-container-id-4 div.sk-label-container {text-align: center;}#sk-container-id-4 div.sk-container {/* jupyter's `normalize.less` sets `[hidden] { display: none; }` but bootstrap.min.css set `[hidden] { display: none !important; }` so we also need the `!important` here to be able to override the default hidden behavior on the sphinx rendered scikit-learn.org. See: https://github.com/scikit-learn/scikit-learn/issues/21755 */display: inline-block !important;position: relative;}#sk-container-id-4 div.sk-text-repr-fallback {display: none;}</style><div id=\"sk-container-id-4\" class=\"sk-top-container\"><div class=\"sk-text-repr-fallback\"><pre>KNeighborsClassifier()</pre><b>In a Jupyter environment, please rerun this cell to show the HTML representation or trust the notebook. <br />On GitHub, the HTML representation is unable to render, please try loading this page with nbviewer.org.</b></div><div class=\"sk-container\" hidden><div class=\"sk-item\"><div class=\"sk-estimator sk-toggleable\"><input class=\"sk-toggleable__control sk-hidden--visually\" id=\"sk-estimator-id-4\" type=\"checkbox\" checked><label for=\"sk-estimator-id-4\" class=\"sk-toggleable__label sk-toggleable__label-arrow\">KNeighborsClassifier</label><div class=\"sk-toggleable__content\"><pre>KNeighborsClassifier()</pre></div></div></div></div></div>"
      ],
      "text/plain": [
       "KNeighborsClassifier()"
      ]
     },
     "execution_count": 17,
     "metadata": {},
     "output_type": "execute_result"
    }
   ],
   "source": [
    "KNC_Model.fit(counts,output)"
   ]
  },
  {
   "cell_type": "code",
   "execution_count": 18,
   "metadata": {},
   "outputs": [
    {
     "data": {
      "text/html": [
       "<style>#sk-container-id-5 {color: black;}#sk-container-id-5 pre{padding: 0;}#sk-container-id-5 div.sk-toggleable {background-color: white;}#sk-container-id-5 label.sk-toggleable__label {cursor: pointer;display: block;width: 100%;margin-bottom: 0;padding: 0.3em;box-sizing: border-box;text-align: center;}#sk-container-id-5 label.sk-toggleable__label-arrow:before {content: \"▸\";float: left;margin-right: 0.25em;color: #696969;}#sk-container-id-5 label.sk-toggleable__label-arrow:hover:before {color: black;}#sk-container-id-5 div.sk-estimator:hover label.sk-toggleable__label-arrow:before {color: black;}#sk-container-id-5 div.sk-toggleable__content {max-height: 0;max-width: 0;overflow: hidden;text-align: left;background-color: #f0f8ff;}#sk-container-id-5 div.sk-toggleable__content pre {margin: 0.2em;color: black;border-radius: 0.25em;background-color: #f0f8ff;}#sk-container-id-5 input.sk-toggleable__control:checked~div.sk-toggleable__content {max-height: 200px;max-width: 100%;overflow: auto;}#sk-container-id-5 input.sk-toggleable__control:checked~label.sk-toggleable__label-arrow:before {content: \"▾\";}#sk-container-id-5 div.sk-estimator input.sk-toggleable__control:checked~label.sk-toggleable__label {background-color: #d4ebff;}#sk-container-id-5 div.sk-label input.sk-toggleable__control:checked~label.sk-toggleable__label {background-color: #d4ebff;}#sk-container-id-5 input.sk-hidden--visually {border: 0;clip: rect(1px 1px 1px 1px);clip: rect(1px, 1px, 1px, 1px);height: 1px;margin: -1px;overflow: hidden;padding: 0;position: absolute;width: 1px;}#sk-container-id-5 div.sk-estimator {font-family: monospace;background-color: #f0f8ff;border: 1px dotted black;border-radius: 0.25em;box-sizing: border-box;margin-bottom: 0.5em;}#sk-container-id-5 div.sk-estimator:hover {background-color: #d4ebff;}#sk-container-id-5 div.sk-parallel-item::after {content: \"\";width: 100%;border-bottom: 1px solid gray;flex-grow: 1;}#sk-container-id-5 div.sk-label:hover label.sk-toggleable__label {background-color: #d4ebff;}#sk-container-id-5 div.sk-serial::before {content: \"\";position: absolute;border-left: 1px solid gray;box-sizing: border-box;top: 0;bottom: 0;left: 50%;z-index: 0;}#sk-container-id-5 div.sk-serial {display: flex;flex-direction: column;align-items: center;background-color: white;padding-right: 0.2em;padding-left: 0.2em;position: relative;}#sk-container-id-5 div.sk-item {position: relative;z-index: 1;}#sk-container-id-5 div.sk-parallel {display: flex;align-items: stretch;justify-content: center;background-color: white;position: relative;}#sk-container-id-5 div.sk-item::before, #sk-container-id-5 div.sk-parallel-item::before {content: \"\";position: absolute;border-left: 1px solid gray;box-sizing: border-box;top: 0;bottom: 0;left: 50%;z-index: -1;}#sk-container-id-5 div.sk-parallel-item {display: flex;flex-direction: column;z-index: 1;position: relative;background-color: white;}#sk-container-id-5 div.sk-parallel-item:first-child::after {align-self: flex-end;width: 50%;}#sk-container-id-5 div.sk-parallel-item:last-child::after {align-self: flex-start;width: 50%;}#sk-container-id-5 div.sk-parallel-item:only-child::after {width: 0;}#sk-container-id-5 div.sk-dashed-wrapped {border: 1px dashed gray;margin: 0 0.4em 0.5em 0.4em;box-sizing: border-box;padding-bottom: 0.4em;background-color: white;}#sk-container-id-5 div.sk-label label {font-family: monospace;font-weight: bold;display: inline-block;line-height: 1.2em;}#sk-container-id-5 div.sk-label-container {text-align: center;}#sk-container-id-5 div.sk-container {/* jupyter's `normalize.less` sets `[hidden] { display: none; }` but bootstrap.min.css set `[hidden] { display: none !important; }` so we also need the `!important` here to be able to override the default hidden behavior on the sphinx rendered scikit-learn.org. See: https://github.com/scikit-learn/scikit-learn/issues/21755 */display: inline-block !important;position: relative;}#sk-container-id-5 div.sk-text-repr-fallback {display: none;}</style><div id=\"sk-container-id-5\" class=\"sk-top-container\"><div class=\"sk-text-repr-fallback\"><pre>DecisionTreeClassifier()</pre><b>In a Jupyter environment, please rerun this cell to show the HTML representation or trust the notebook. <br />On GitHub, the HTML representation is unable to render, please try loading this page with nbviewer.org.</b></div><div class=\"sk-container\" hidden><div class=\"sk-item\"><div class=\"sk-estimator sk-toggleable\"><input class=\"sk-toggleable__control sk-hidden--visually\" id=\"sk-estimator-id-5\" type=\"checkbox\" checked><label for=\"sk-estimator-id-5\" class=\"sk-toggleable__label sk-toggleable__label-arrow\">DecisionTreeClassifier</label><div class=\"sk-toggleable__content\"><pre>DecisionTreeClassifier()</pre></div></div></div></div></div>"
      ],
      "text/plain": [
       "DecisionTreeClassifier()"
      ]
     },
     "execution_count": 18,
     "metadata": {},
     "output_type": "execute_result"
    }
   ],
   "source": [
    "DTC_Model.fit(counts,output)"
   ]
  },
  {
   "cell_type": "markdown",
   "metadata": {},
   "source": [
    "### Checking the accuracy using 90/10 train/test split"
   ]
  },
  {
   "cell_type": "code",
   "execution_count": 19,
   "metadata": {},
   "outputs": [],
   "source": [
    "from sklearn.decomposition import TruncatedSVD\n",
    "X = counts\n",
    "Y = output\n",
    "X_train, X_test, Y_train, Y_test = train_test_split(X, Y, test_size = .1)"
   ]
  },
  {
   "cell_type": "code",
   "execution_count": 20,
   "metadata": {},
   "outputs": [
    {
     "name": "stdout",
     "output_type": "stream",
     "text": [
      "The Naive Bayes Algorithm has an accuracy of 0.8057274550808757\n",
      "F1 Score: 0.8038226425299025\n"
     ]
    }
   ],
   "source": [
    "NBtest = MultinomialNB().fit(X_train,Y_train)\n",
    "nb_predictions= NBtest.predict(X_test)\n",
    "acc_nb = NBtest.score(X_test, Y_test)\n",
    "print('The Naive Bayes Algorithm has an accuracy of', acc_nb)\n",
    "f1 = f1_score(Y_test, nb_predictions, average='weighted')  # Use 'binary' for binary classification\n",
    "print(\"F1 Score:\", f1)"
   ]
  },
  {
   "cell_type": "code",
   "execution_count": 22,
   "metadata": {},
   "outputs": [
    {
     "name": "stdout",
     "output_type": "stream",
     "text": [
      "The Random Forest Algorithm has an accuracy of 0.9941530451111775\n",
      "F1 Score: 0.9941520050750988\n"
     ]
    }
   ],
   "source": [
    "RFCtest = RandomForestClassifier().fit(X_train,Y_train)\n",
    "rfc_predictions = RFCtest.predict(X_test)\n",
    "acc_rfc = RFCtest.score(X_test, Y_test)\n",
    "print('The Random Forest Algorithm has an accuracy of', acc_rfc)\n",
    "f1 = f1_score(Y_test, rfc_predictions, average='weighted')  # Use 'binary' for binary classification\n",
    "print(\"F1 Score:\", f1)\n"
   ]
  },
  {
   "cell_type": "code",
   "execution_count": 22,
   "metadata": {},
   "outputs": [
    {
     "name": "stdout",
     "output_type": "stream",
     "text": [
      "The Support Vector Algorithm has an accuracy of 0.9837821689215143\n",
      "F1 Score: 0.9837882135742965\n"
     ]
    }
   ],
   "source": [
    "SVCtest = SVC().fit(X_train,Y_train)\n",
    "svc_predictions = SVCtest.predict(X_test)\n",
    "acc_svc = SVCtest.score(X_test, Y_test)\n",
    "print('The Support Vector Algorithm has an accuracy of', acc_svc)\n",
    "f1 = f1_score(Y_test, svc_predictions, average='weighted')  # Use 'binary' for binary classification\n",
    "print(\"F1 Score:\", f1)"
   ]
  },
  {
   "cell_type": "code",
   "execution_count": 33,
   "metadata": {},
   "outputs": [
    {
     "name": "stdout",
     "output_type": "stream",
     "text": [
      "The K Neighbors Algorithm has an accuracy of 0.9679057658657334\n",
      "F1 Score: 0.9679136660281514\n"
     ]
    }
   ],
   "source": [
    "KNCtest = KNeighborsClassifier().fit(X_train,Y_train)\n",
    "knc_predictions = KNCtest.predict(X_test)\n",
    "acc_knc = KNCtest.score(X_test, Y_test)\n",
    "print('The K Neighbors Algorithm has an accuracy of', acc_knc)\n",
    "f1 = f1_score(Y_test, knc_predictions, average='weighted')  # Use 'binary' for binary classification\n",
    "print(\"F1 Score:\", f1)"
   ]
  },
  {
   "cell_type": "code",
   "execution_count": 24,
   "metadata": {},
   "outputs": [
    {
     "name": "stdout",
     "output_type": "stream",
     "text": [
      "The Decision Tree Algorithm has an accuracy of 0.9944091161282063\n",
      "F1 Score: 0.9944139743694288\n"
     ]
    }
   ],
   "source": [
    "DTCtest = DecisionTreeClassifier().fit(X_train,Y_train)\n",
    "dtc_predictions = DTCtest.predict(X_test)\n",
    "acc_dtc = DTCtest.score(X_test, Y_test)\n",
    "print('The Decision Tree Algorithm has an accuracy of', acc_dtc)\n",
    "f1 = f1_score(Y_test, dtc_predictions, average='weighted')  # Use 'binary' for binary classification\n",
    "print(\"F1 Score:\", f1)"
   ]
  },
  {
   "cell_type": "code",
   "execution_count": 42,
   "metadata": {},
   "outputs": [
    {
     "data": {
      "image/png": "[encoded data removed]",
      "text/plain": [
       "<Figure size 1000x600 with 1 Axes>"
      ]
     },
     "metadata": {},
     "output_type": "display_data"
    }
   ],
   "source": [
    "\n",
    "import numpy as np \n",
    "import matplotlib.pyplot as plt \n",
    " \n",
    "# set width of bar \n",
    "barWidth = 0.25\n",
    "fig = plt.subplots(figsize =(10, 6)) \n",
    " \n",
    "# set height of bar \n",
    "accuracy = [0.8057274550808757, 0.9941530451111775, 0.9837821689215143, 0.9679057658657334, 0.9944091161282063] \n",
    "F1_Score = [0.8038226425299025, 0.9941520050750988, 0.9837882135742965, 0.9679136660281514, 0.9944139743694288] \n",
    "\n",
    " \n",
    "# Set position of bar on X axis \n",
    "br1 = np.arange(len(accuracy)) \n",
    "br2 = [x + barWidth for x in br1] \n",
    " \n",
    " \n",
    "# Make the plot\n",
    "plt.bar(br1, accuracy, color ='r', width = barWidth, \n",
    "        edgecolor ='grey', label ='accuracy') \n",
    "plt.bar(br2, F1_Score, color ='g', width = barWidth, \n",
    "        edgecolor ='grey', label ='F1_Score') \n",
    "\n",
    " \n",
    "# Adding Xticks \n",
    "plt.xlabel('Model', fontweight ='bold', fontsize = 15) \n",
    "plt.ylabel('Percentage', fontweight ='bold', fontsize = 15) \n",
    "plt.xticks([r + barWidth for r in range(len(accuracy))], \n",
    "        ['Naive Bayes', 'Random Forest', 'Support Vector', 'K Neighbors', 'Decision Tree'])\n",
    " \n",
    "plt.legend()\n",
    "plt.show() "
   ]
  },
  {
   "cell_type": "markdown",
   "metadata": {},
   "source": [
    "# Part III: Test"
   ]
  },
  {
   "cell_type": "markdown",
   "metadata": {},
   "source": [
    "### Entering hypothetical titles to predict the category"
   ]
  },
  {
   "cell_type": "code",
   "execution_count": 44,
   "metadata": {},
   "outputs": [
    {
     "name": "stdout",
     "output_type": "stream",
     "text": [
      "0        Ultimate Car Restoration: 1967 Mustang Rebirth\n",
      "1          The Journey of a Symphony: Behind the Scenes\n",
      "2           Puppy's First Day Home: A Heartwarming Tale\n",
      "3     Incredible Soccer Skills: Top 10 Goals of the ...\n",
      "4           The Haunted Lighthouse: A Short Horror Film\n",
      "5      Exploring the Hidden Gems of Bali: A Travel Vlog\n",
      "6     Epic Battle Royale Gameplay: Victory Against A...\n",
      "7                  Life of a Vlogger: Behind the Scenes\n",
      "8        The Art of Making Friends: A Social Experiment\n",
      "9     Stand-up Nights: Hilarious New Comedian on the...\n",
      "10        Celebrity Interviews: The Latest in Hollywood\n",
      "11      Breaking News: Major Political Shifts Explained\n",
      "12          DIY Home Decor: Transform Your Space Easily\n",
      "13    Revolutionizing Learning: New Educational Methods\n",
      "14    The Future of AI: Discoveries That Could Chang...\n",
      "15        Charity Event Highlights: Making a Difference\n",
      "16        Classic Cinema Review: 'Casablanca' Revisited\n",
      "17            Creating an Anime Character: Step by Step\n",
      "18          Adrenaline Rush: Extreme Parkour Adventures\n",
      "19    Rediscovering Cinema Classics: 'Gone with the ...\n",
      "20              Laugh Out Loud: Stand-Up Comedy Special\n",
      "21    Inside the Amazon: A Documentary on Rainforest...\n",
      "22       Award-Winning Drama: 'The Life of Pi' Analysis\n",
      "23               Family Adventures: Camping in the Wild\n",
      "24         Exploring World Cinema: Best of French Films\n",
      "25          Terrifying Nights: Exploring Haunted Houses\n",
      "26    Sci-Fi Fan Theories: Exploring Alternate Unive...\n",
      "27            Crime Thriller Series: 'The Unseen Enemy'\n",
      "28           Life in a Minute: Award-Winning Short Film\n",
      "29           Behind the Scenes: The Making of a TV Show\n",
      "30          Upcoming Movie Trailers: What's Hot in 2023\n",
      "Name: 0, dtype: object\n"
     ]
    }
   ],
   "source": [
    "titles = pd.read_csv('test_category.csv', header=None)\n",
    "print(titles[0])"
   ]
  },
  {
   "cell_type": "markdown",
   "metadata": {},
   "source": [
    "### Inserting above titles into each classifier model"
   ]
  },
  {
   "cell_type": "code",
   "execution_count": 45,
   "metadata": {},
   "outputs": [],
   "source": [
    "Titles_counts = vector.transform(titles[0])"
   ]
  },
  {
   "cell_type": "markdown",
   "metadata": {},
   "source": [
    "### Naive Bayes Model"
   ]
  },
  {
   "cell_type": "code",
   "execution_count": 46,
   "metadata": {},
   "outputs": [
    {
     "data": {
      "text/plain": [
       "array([ 2, 20, 24, 17,  1, 22, 20, 24, 24, 20, 24, 25, 26, 20, 27, 20,  2,\n",
       "       20, 20,  1, 23, 23, 24, 22, 24, 24, 24,  1, 24, 24, 24])"
      ]
     },
     "execution_count": 46,
     "metadata": {},
     "output_type": "execute_result"
    }
   ],
   "source": [
    "PredictNB = NB_Model.predict(Titles_counts)\n",
    "PredictNB"
   ]
  },
  {
   "cell_type": "markdown",
   "metadata": {},
   "source": [
    "### Random Forest Model"
   ]
  },
  {
   "cell_type": "code",
   "execution_count": 47,
   "metadata": {},
   "outputs": [
    {
     "data": {
      "text/plain": [
       "array([ 2, 24, 24, 24, 10, 24, 20, 22, 24, 20, 24, 22, 26, 24, 22, 28, 20,\n",
       "       20, 22, 24, 20, 24, 24, 23, 24, 24, 24, 20, 10, 23, 24])"
      ]
     },
     "execution_count": 47,
     "metadata": {},
     "output_type": "execute_result"
    }
   ],
   "source": [
    "PredictRFC = RFC_Model.predict(Titles_counts)\n",
    "PredictRFC"
   ]
  },
  {
   "cell_type": "markdown",
   "metadata": {},
   "source": [
    "### SVC Model"
   ]
  },
  {
   "cell_type": "code",
   "execution_count": 29,
   "metadata": {},
   "outputs": [
    {
     "data": {
      "text/plain": [
       "array([ 2, 27, 24, 22,  1, 22, 17, 24, 24, 20, 24, 24, 26, 20, 27, 28, 20,\n",
       "       22, 24, 24, 23, 24, 24, 24, 20, 24, 24, 20, 24, 23, 24])"
      ]
     },
     "execution_count": 29,
     "metadata": {},
     "output_type": "execute_result"
    }
   ],
   "source": [
    "PredictSVC = SVC_Model.predict(Titles_counts)\n",
    "PredictSVC"
   ]
  },
  {
   "cell_type": "markdown",
   "metadata": {},
   "source": [
    "### K Neighbors Model"
   ]
  },
  {
   "cell_type": "code",
   "execution_count": null,
   "metadata": {},
   "outputs": [],
   "source": [
    "PredictKNC = KNC_Model.predict(Titles_counts)\n",
    "PredictKNC"
   ]
  },
  {
   "cell_type": "markdown",
   "metadata": {},
   "source": [
    "### Decision Tree Model"
   ]
  },
  {
   "cell_type": "code",
   "execution_count": 31,
   "metadata": {},
   "outputs": [
    {
     "data": {
      "text/plain": [
       "array([ 2, 24, 24, 24, 10, 23, 20, 27, 24, 24, 24, 10, 26, 24, 24, 28, 20,\n",
       "       20, 28, 24, 23, 23, 24, 23, 26, 24, 24, 28, 24, 23,  1])"
      ]
     },
     "execution_count": 31,
     "metadata": {},
     "output_type": "execute_result"
    }
   ],
   "source": [
    "PredictDTC = DTC_Model.predict(Titles_counts)\n",
    "PredictDTC"
   ]
  },
  {
   "cell_type": "code",
   "execution_count": null,
   "metadata": {},
   "outputs": [],
   "source": []
  },
  {
   "cell_type": "markdown",
   "metadata": {},
   "source": [
    "### Output will be an array of numbers. Iterate through the Category Dictionary (from JSON file) to find \"title\""
   ]
  },
  {
   "cell_type": "code",
   "execution_count": 49,
   "metadata": {},
   "outputs": [],
   "source": [
    "CategoryNamesListNB = []\n",
    "for Category_ID in PredictNB:\n",
    "    MatchingCategoriesNB = [x for x in category_dict if x[\"id\"] == str(Category_ID)]\n",
    "    if MatchingCategoriesNB:\n",
    "        CategoryNamesListNB.append(MatchingCategoriesNB[0][\"title\"])"
   ]
  },
  {
   "cell_type": "code",
   "execution_count": 50,
   "metadata": {},
   "outputs": [],
   "source": [
    "CategoryNamesListRFC = []\n",
    "for Category_ID in PredictRFC:\n",
    "    MatchingCategoriesRFC = [x for x in category_dict if x[\"id\"] == str(Category_ID)]\n",
    "    if MatchingCategoriesRFC:\n",
    "        CategoryNamesListRFC.append(MatchingCategoriesRFC[0][\"title\"])"
   ]
  },
  {
   "cell_type": "code",
   "execution_count": 34,
   "metadata": {},
   "outputs": [],
   "source": [
    "CategoryNamesListSVC = []\n",
    "for Category_ID in PredictSVC:\n",
    "    MatchingCategoriesSVC = [x for x in category_dict if x[\"id\"] == str(Category_ID)]\n",
    "    if MatchingCategoriesSVC:\n",
    "        CategoryNamesListSVC.append(MatchingCategoriesSVC[0][\"title\"])"
   ]
  },
  {
   "cell_type": "code",
   "execution_count": 35,
   "metadata": {},
   "outputs": [],
   "source": [
    "CategoryNamesListKNC = []\n",
    "for Category_ID in PredictKNC:\n",
    "    MatchingCategoriesKNC = [x for x in category_dict if x[\"id\"] == str(Category_ID)]\n",
    "    if MatchingCategoriesKNC:\n",
    "        CategoryNamesListKNC.append(MatchingCategoriesKNC[0][\"title\"])"
   ]
  },
  {
   "cell_type": "code",
   "execution_count": 36,
   "metadata": {},
   "outputs": [],
   "source": [
    "CategoryNamesListDTC = []\n",
    "for Category_ID in PredictDTC:\n",
    "    MatchingCategoriesDTC = [x for x in category_dict if x[\"id\"] == str(Category_ID)]\n",
    "    if MatchingCategoriesDTC:\n",
    "        CategoryNamesListDTC.append(MatchingCategoriesDTC[0][\"title\"])"
   ]
  },
  {
   "cell_type": "markdown",
   "metadata": {},
   "source": [
    "### Mapping these values to the Titles we want to Predict"
   ]
  },
  {
   "cell_type": "code",
   "execution_count": 51,
   "metadata": {},
   "outputs": [],
   "source": [
    "TitleDataFrameNB = []\n",
    "for i in range(0, len(titles[0])):\n",
    "    TitleToCategoriesNB = {'Title': titles[0][i],  'Category': CategoryNamesListNB[i]}\n",
    "    TitleDataFrameNB.append(TitleToCategoriesNB)"
   ]
  },
  {
   "cell_type": "code",
   "execution_count": 52,
   "metadata": {},
   "outputs": [],
   "source": [
    "TitleDataFrameRFC = []\n",
    "for i in range(0, len(titles[0])):\n",
    "    TitleToCategoriesRFC = {'Title': titles[0][i],  'Category': CategoryNamesListRFC[i]}\n",
    "    TitleDataFrameRFC.append(TitleToCategoriesRFC)"
   ]
  },
  {
   "cell_type": "code",
   "execution_count": 39,
   "metadata": {},
   "outputs": [],
   "source": [
    "TitleDataFrameSVC = []\n",
    "for i in range(0, len(titles[0])):\n",
    "    TitleToCategoriesSVC = {'Title': titles[0][i],  'Category': CategoryNamesListSVC[i]}\n",
    "    TitleDataFrameSVC.append(TitleToCategoriesSVC)"
   ]
  },
  {
   "cell_type": "code",
   "execution_count": 40,
   "metadata": {},
   "outputs": [],
   "source": [
    "TitleDataFrameKNC = []\n",
    "for i in range(0, len(titles[0])):\n",
    "    TitleToCategoriesKNC = {'Title': titles[0][i],  'Category': CategoryNamesListKNC[i]}\n",
    "    TitleDataFrameKNC.append(TitleToCategoriesKNC)"
   ]
  },
  {
   "cell_type": "code",
   "execution_count": 41,
   "metadata": {},
   "outputs": [],
   "source": [
    "TitleDataFrameDTC = []\n",
    "for i in range(0, len(titles[0])):\n",
    "    TitleToCategoriesDTC = {'Title': titles[0][i],  'Category': CategoryNamesListDTC[i]}\n",
    "    TitleDataFrameDTC.append(TitleToCategoriesDTC)"
   ]
  },
  {
   "cell_type": "markdown",
   "metadata": {},
   "source": [
    "### Converting the resulting Dictionary to a Data Frame"
   ]
  },
  {
   "cell_type": "code",
   "execution_count": 53,
   "metadata": {},
   "outputs": [],
   "source": [
    "PredictDFnb = pd.DataFrame(PredictNB)\n",
    "TitleDFnb = pd.DataFrame(TitleDataFrameNB)\n",
    "PreFinalDFnb = pd.concat([PredictDFnb, TitleDFnb], axis=1)\n",
    "PreFinalDFnb.columns = (['Categ_ID', 'Predicted Category', 'Hypothetical Video Title'])\n",
    "FinalDFnb = PreFinalDFnb.drop(['Categ_ID'],axis=1)\n",
    "colsNB = FinalDFnb.columns.tolist()\n",
    "colsNB = colsNB[-1:] + colsNB[:-1]\n",
    "FinalDFnb= FinalDFnb[colsNB]"
   ]
  },
  {
   "cell_type": "code",
   "execution_count": 54,
   "metadata": {},
   "outputs": [],
   "source": [
    "PredictDFrfc = pd.DataFrame(PredictRFC)\n",
    "TitleDFrfc = pd.DataFrame(TitleDataFrameRFC)\n",
    "PreFinalDFrfc = pd.concat([PredictDFrfc, TitleDFrfc], axis=1)\n",
    "PreFinalDFrfc.columns = (['Categ_ID', 'Predicted Category', 'Hypothetical Video Title'])\n",
    "FinalDFrfc = PreFinalDFrfc.drop(['Categ_ID'],axis=1)\n",
    "colsRFC = FinalDFrfc.columns.tolist()\n",
    "colsRFC = colsRFC[-1:] + colsRFC[:-1]\n",
    "FinalDFrfc= FinalDFrfc[colsRFC]"
   ]
  },
  {
   "cell_type": "code",
   "execution_count": 44,
   "metadata": {},
   "outputs": [],
   "source": [
    "PredictDFsvc = pd.DataFrame(PredictSVC)\n",
    "TitleDFsvc = pd.DataFrame(TitleDataFrameSVC)\n",
    "PreFinalDFsvc = pd.concat([PredictDFsvc, TitleDFsvc], axis=1)\n",
    "PreFinalDFsvc.columns = (['Categ_ID', 'Predicted Category', 'Hypothetical Video Title'])\n",
    "FinalDFsvc = PreFinalDFsvc.drop(['Categ_ID'],axis=1)\n",
    "colsSVC = FinalDFsvc.columns.tolist()\n",
    "colsSVC = colsSVC[-1:] + colsSVC[:-1]\n",
    "FinalDFsvc= FinalDFsvc[colsSVC]"
   ]
  },
  {
   "cell_type": "code",
   "execution_count": 45,
   "metadata": {},
   "outputs": [],
   "source": [
    "PredictDFknc = pd.DataFrame(PredictKNC)\n",
    "TitleDFknc = pd.DataFrame(TitleDataFrameKNC)\n",
    "PreFinalDFknc = pd.concat([PredictDFknc, TitleDFknc], axis=1)\n",
    "PreFinalDFknc.columns = (['Categ_ID', 'Predicted Category', 'Hypothetical Video Title'])\n",
    "FinalDFknc = PreFinalDFknc.drop(['Categ_ID'],axis=1)\n",
    "colsKNC = FinalDFknc.columns.tolist()\n",
    "colsKNC = colsKNC[-1:] + colsKNC[:-1]\n",
    "FinalDFknc= FinalDFknc[colsKNC]"
   ]
  },
  {
   "cell_type": "code",
   "execution_count": 46,
   "metadata": {},
   "outputs": [],
   "source": [
    "PredictDFdtc = pd.DataFrame(PredictDTC)\n",
    "TitleDFdtc = pd.DataFrame(TitleDataFrameDTC)\n",
    "PreFinalDFdtc = pd.concat([PredictDFdtc, TitleDFdtc], axis=1)\n",
    "PreFinalDFdtc.columns = (['Categ_ID', 'Predicted Category', 'Hypothetical Video Title'])\n",
    "FinalDFdtc = PreFinalDFdtc.drop(['Categ_ID'],axis=1)\n",
    "colsDTC = FinalDFdtc.columns.tolist()\n",
    "colsDTC = colsDTC[-1:] + colsDTC[:-1]\n",
    "FinalDFdtc= FinalDFdtc[colsDTC]"
   ]
  },
  {
   "cell_type": "markdown",
   "metadata": {},
   "source": [
    "### Viewing the Final Prediction Results"
   ]
  },
  {
   "cell_type": "code",
   "execution_count": 55,
   "metadata": {},
   "outputs": [
    {
     "data": {
      "text/html": [
       "<div>\n",
       "<style scoped>\n",
       "    .dataframe tbody tr th:only-of-type {\n",
       "        vertical-align: middle;\n",
       "    }\n",
       "\n",
       "    .dataframe tbody tr th {\n",
       "        vertical-align: top;\n",
       "    }\n",
       "\n",
       "    .dataframe thead th {\n",
       "        text-align: right;\n",
       "    }\n",
       "</style>\n",
       "<table border=\"1\" class=\"dataframe\">\n",
       "  <thead>\n",
       "    <tr style=\"text-align: right;\">\n",
       "      <th></th>\n",
       "      <th>Hypothetical Video Title</th>\n",
       "      <th>Predicted Category</th>\n",
       "    </tr>\n",
       "  </thead>\n",
       "  <tbody>\n",
       "    <tr>\n",
       "      <th>0</th>\n",
       "      <td>Autos &amp; Vehicles</td>\n",
       "      <td>Ultimate Car Restoration: 1967 Mustang Rebirth</td>\n",
       "    </tr>\n",
       "    <tr>\n",
       "      <th>1</th>\n",
       "      <td>Gaming</td>\n",
       "      <td>The Journey of a Symphony: Behind the Scenes</td>\n",
       "    </tr>\n",
       "    <tr>\n",
       "      <th>2</th>\n",
       "      <td>Entertainment</td>\n",
       "      <td>Puppy's First Day Home: A Heartwarming Tale</td>\n",
       "    </tr>\n",
       "    <tr>\n",
       "      <th>3</th>\n",
       "      <td>Sports</td>\n",
       "      <td>Incredible Soccer Skills: Top 10 Goals of the ...</td>\n",
       "    </tr>\n",
       "    <tr>\n",
       "      <th>4</th>\n",
       "      <td>Film &amp; Animation</td>\n",
       "      <td>The Haunted Lighthouse: A Short Horror Film</td>\n",
       "    </tr>\n",
       "    <tr>\n",
       "      <th>5</th>\n",
       "      <td>People &amp; Blogs</td>\n",
       "      <td>Exploring the Hidden Gems of Bali: A Travel Vlog</td>\n",
       "    </tr>\n",
       "    <tr>\n",
       "      <th>6</th>\n",
       "      <td>Gaming</td>\n",
       "      <td>Epic Battle Royale Gameplay: Victory Against A...</td>\n",
       "    </tr>\n",
       "    <tr>\n",
       "      <th>7</th>\n",
       "      <td>Entertainment</td>\n",
       "      <td>Life of a Vlogger: Behind the Scenes</td>\n",
       "    </tr>\n",
       "    <tr>\n",
       "      <th>8</th>\n",
       "      <td>Entertainment</td>\n",
       "      <td>The Art of Making Friends: A Social Experiment</td>\n",
       "    </tr>\n",
       "    <tr>\n",
       "      <th>9</th>\n",
       "      <td>Gaming</td>\n",
       "      <td>Stand-up Nights: Hilarious New Comedian on the...</td>\n",
       "    </tr>\n",
       "    <tr>\n",
       "      <th>10</th>\n",
       "      <td>Entertainment</td>\n",
       "      <td>Celebrity Interviews: The Latest in Hollywood</td>\n",
       "    </tr>\n",
       "    <tr>\n",
       "      <th>11</th>\n",
       "      <td>News &amp; Politics</td>\n",
       "      <td>Breaking News: Major Political Shifts Explained</td>\n",
       "    </tr>\n",
       "    <tr>\n",
       "      <th>12</th>\n",
       "      <td>Howto &amp; Style</td>\n",
       "      <td>DIY Home Decor: Transform Your Space Easily</td>\n",
       "    </tr>\n",
       "    <tr>\n",
       "      <th>13</th>\n",
       "      <td>Gaming</td>\n",
       "      <td>Revolutionizing Learning: New Educational Methods</td>\n",
       "    </tr>\n",
       "    <tr>\n",
       "      <th>14</th>\n",
       "      <td>Education</td>\n",
       "      <td>The Future of AI: Discoveries That Could Chang...</td>\n",
       "    </tr>\n",
       "    <tr>\n",
       "      <th>15</th>\n",
       "      <td>Gaming</td>\n",
       "      <td>Charity Event Highlights: Making a Difference</td>\n",
       "    </tr>\n",
       "    <tr>\n",
       "      <th>16</th>\n",
       "      <td>Autos &amp; Vehicles</td>\n",
       "      <td>Classic Cinema Review: 'Casablanca' Revisited</td>\n",
       "    </tr>\n",
       "    <tr>\n",
       "      <th>17</th>\n",
       "      <td>Gaming</td>\n",
       "      <td>Creating an Anime Character: Step by Step</td>\n",
       "    </tr>\n",
       "    <tr>\n",
       "      <th>18</th>\n",
       "      <td>Gaming</td>\n",
       "      <td>Adrenaline Rush: Extreme Parkour Adventures</td>\n",
       "    </tr>\n",
       "    <tr>\n",
       "      <th>19</th>\n",
       "      <td>Film &amp; Animation</td>\n",
       "      <td>Rediscovering Cinema Classics: 'Gone with the ...</td>\n",
       "    </tr>\n",
       "    <tr>\n",
       "      <th>20</th>\n",
       "      <td>Comedy</td>\n",
       "      <td>Laugh Out Loud: Stand-Up Comedy Special</td>\n",
       "    </tr>\n",
       "    <tr>\n",
       "      <th>21</th>\n",
       "      <td>Comedy</td>\n",
       "      <td>Inside the Amazon: A Documentary on Rainforest...</td>\n",
       "    </tr>\n",
       "    <tr>\n",
       "      <th>22</th>\n",
       "      <td>Entertainment</td>\n",
       "      <td>Award-Winning Drama: 'The Life of Pi' Analysis</td>\n",
       "    </tr>\n",
       "    <tr>\n",
       "      <th>23</th>\n",
       "      <td>People &amp; Blogs</td>\n",
       "      <td>Family Adventures: Camping in the Wild</td>\n",
       "    </tr>\n",
       "    <tr>\n",
       "      <th>24</th>\n",
       "      <td>Entertainment</td>\n",
       "      <td>Exploring World Cinema: Best of French Films</td>\n",
       "    </tr>\n",
       "    <tr>\n",
       "      <th>25</th>\n",
       "      <td>Entertainment</td>\n",
       "      <td>Terrifying Nights: Exploring Haunted Houses</td>\n",
       "    </tr>\n",
       "    <tr>\n",
       "      <th>26</th>\n",
       "      <td>Entertainment</td>\n",
       "      <td>Sci-Fi Fan Theories: Exploring Alternate Unive...</td>\n",
       "    </tr>\n",
       "    <tr>\n",
       "      <th>27</th>\n",
       "      <td>Film &amp; Animation</td>\n",
       "      <td>Crime Thriller Series: 'The Unseen Enemy'</td>\n",
       "    </tr>\n",
       "    <tr>\n",
       "      <th>28</th>\n",
       "      <td>Entertainment</td>\n",
       "      <td>Life in a Minute: Award-Winning Short Film</td>\n",
       "    </tr>\n",
       "    <tr>\n",
       "      <th>29</th>\n",
       "      <td>Entertainment</td>\n",
       "      <td>Behind the Scenes: The Making of a TV Show</td>\n",
       "    </tr>\n",
       "    <tr>\n",
       "      <th>30</th>\n",
       "      <td>Entertainment</td>\n",
       "      <td>Upcoming Movie Trailers: What's Hot in 2023</td>\n",
       "    </tr>\n",
       "  </tbody>\n",
       "</table>\n",
       "</div>"
      ],
      "text/plain": [
       "   Hypothetical Video Title                                 Predicted Category\n",
       "0          Autos & Vehicles     Ultimate Car Restoration: 1967 Mustang Rebirth\n",
       "1                    Gaming       The Journey of a Symphony: Behind the Scenes\n",
       "2             Entertainment        Puppy's First Day Home: A Heartwarming Tale\n",
       "3                    Sports  Incredible Soccer Skills: Top 10 Goals of the ...\n",
       "4          Film & Animation        The Haunted Lighthouse: A Short Horror Film\n",
       "5            People & Blogs   Exploring the Hidden Gems of Bali: A Travel Vlog\n",
       "6                    Gaming  Epic Battle Royale Gameplay: Victory Against A...\n",
       "7             Entertainment               Life of a Vlogger: Behind the Scenes\n",
       "8             Entertainment     The Art of Making Friends: A Social Experiment\n",
       "9                    Gaming  Stand-up Nights: Hilarious New Comedian on the...\n",
       "10            Entertainment      Celebrity Interviews: The Latest in Hollywood\n",
       "11          News & Politics    Breaking News: Major Political Shifts Explained\n",
       "12            Howto & Style        DIY Home Decor: Transform Your Space Easily\n",
       "13                   Gaming  Revolutionizing Learning: New Educational Methods\n",
       "14                Education  The Future of AI: Discoveries That Could Chang...\n",
       "15                   Gaming      Charity Event Highlights: Making a Difference\n",
       "16         Autos & Vehicles      Classic Cinema Review: 'Casablanca' Revisited\n",
       "17                   Gaming          Creating an Anime Character: Step by Step\n",
       "18                   Gaming        Adrenaline Rush: Extreme Parkour Adventures\n",
       "19         Film & Animation  Rediscovering Cinema Classics: 'Gone with the ...\n",
       "20                   Comedy            Laugh Out Loud: Stand-Up Comedy Special\n",
       "21                   Comedy  Inside the Amazon: A Documentary on Rainforest...\n",
       "22            Entertainment     Award-Winning Drama: 'The Life of Pi' Analysis\n",
       "23           People & Blogs             Family Adventures: Camping in the Wild\n",
       "24            Entertainment       Exploring World Cinema: Best of French Films\n",
       "25            Entertainment        Terrifying Nights: Exploring Haunted Houses\n",
       "26            Entertainment  Sci-Fi Fan Theories: Exploring Alternate Unive...\n",
       "27         Film & Animation          Crime Thriller Series: 'The Unseen Enemy'\n",
       "28            Entertainment         Life in a Minute: Award-Winning Short Film\n",
       "29            Entertainment         Behind the Scenes: The Making of a TV Show\n",
       "30            Entertainment        Upcoming Movie Trailers: What's Hot in 2023"
      ]
     },
     "execution_count": 55,
     "metadata": {},
     "output_type": "execute_result"
    }
   ],
   "source": [
    "# Naive Bayes \n",
    "FinalDFnb"
   ]
  },
  {
   "cell_type": "code",
   "execution_count": 56,
   "metadata": {},
   "outputs": [
    {
     "data": {
      "text/html": [
       "<div>\n",
       "<style scoped>\n",
       "    .dataframe tbody tr th:only-of-type {\n",
       "        vertical-align: middle;\n",
       "    }\n",
       "\n",
       "    .dataframe tbody tr th {\n",
       "        vertical-align: top;\n",
       "    }\n",
       "\n",
       "    .dataframe thead th {\n",
       "        text-align: right;\n",
       "    }\n",
       "</style>\n",
       "<table border=\"1\" class=\"dataframe\">\n",
       "  <thead>\n",
       "    <tr style=\"text-align: right;\">\n",
       "      <th></th>\n",
       "      <th>Hypothetical Video Title</th>\n",
       "      <th>Predicted Category</th>\n",
       "    </tr>\n",
       "  </thead>\n",
       "  <tbody>\n",
       "    <tr>\n",
       "      <th>0</th>\n",
       "      <td>Autos &amp; Vehicles</td>\n",
       "      <td>Ultimate Car Restoration: 1967 Mustang Rebirth</td>\n",
       "    </tr>\n",
       "    <tr>\n",
       "      <th>1</th>\n",
       "      <td>Entertainment</td>\n",
       "      <td>The Journey of a Symphony: Behind the Scenes</td>\n",
       "    </tr>\n",
       "    <tr>\n",
       "      <th>2</th>\n",
       "      <td>Entertainment</td>\n",
       "      <td>Puppy's First Day Home: A Heartwarming Tale</td>\n",
       "    </tr>\n",
       "    <tr>\n",
       "      <th>3</th>\n",
       "      <td>Entertainment</td>\n",
       "      <td>Incredible Soccer Skills: Top 10 Goals of the ...</td>\n",
       "    </tr>\n",
       "    <tr>\n",
       "      <th>4</th>\n",
       "      <td>Music</td>\n",
       "      <td>The Haunted Lighthouse: A Short Horror Film</td>\n",
       "    </tr>\n",
       "    <tr>\n",
       "      <th>5</th>\n",
       "      <td>Entertainment</td>\n",
       "      <td>Exploring the Hidden Gems of Bali: A Travel Vlog</td>\n",
       "    </tr>\n",
       "    <tr>\n",
       "      <th>6</th>\n",
       "      <td>Gaming</td>\n",
       "      <td>Epic Battle Royale Gameplay: Victory Against A...</td>\n",
       "    </tr>\n",
       "    <tr>\n",
       "      <th>7</th>\n",
       "      <td>People &amp; Blogs</td>\n",
       "      <td>Life of a Vlogger: Behind the Scenes</td>\n",
       "    </tr>\n",
       "    <tr>\n",
       "      <th>8</th>\n",
       "      <td>Entertainment</td>\n",
       "      <td>The Art of Making Friends: A Social Experiment</td>\n",
       "    </tr>\n",
       "    <tr>\n",
       "      <th>9</th>\n",
       "      <td>Gaming</td>\n",
       "      <td>Stand-up Nights: Hilarious New Comedian on the...</td>\n",
       "    </tr>\n",
       "    <tr>\n",
       "      <th>10</th>\n",
       "      <td>Entertainment</td>\n",
       "      <td>Celebrity Interviews: The Latest in Hollywood</td>\n",
       "    </tr>\n",
       "    <tr>\n",
       "      <th>11</th>\n",
       "      <td>People &amp; Blogs</td>\n",
       "      <td>Breaking News: Major Political Shifts Explained</td>\n",
       "    </tr>\n",
       "    <tr>\n",
       "      <th>12</th>\n",
       "      <td>Howto &amp; Style</td>\n",
       "      <td>DIY Home Decor: Transform Your Space Easily</td>\n",
       "    </tr>\n",
       "    <tr>\n",
       "      <th>13</th>\n",
       "      <td>Entertainment</td>\n",
       "      <td>Revolutionizing Learning: New Educational Methods</td>\n",
       "    </tr>\n",
       "    <tr>\n",
       "      <th>14</th>\n",
       "      <td>People &amp; Blogs</td>\n",
       "      <td>The Future of AI: Discoveries That Could Chang...</td>\n",
       "    </tr>\n",
       "    <tr>\n",
       "      <th>15</th>\n",
       "      <td>Science &amp; Technology</td>\n",
       "      <td>Charity Event Highlights: Making a Difference</td>\n",
       "    </tr>\n",
       "    <tr>\n",
       "      <th>16</th>\n",
       "      <td>Gaming</td>\n",
       "      <td>Classic Cinema Review: 'Casablanca' Revisited</td>\n",
       "    </tr>\n",
       "    <tr>\n",
       "      <th>17</th>\n",
       "      <td>Gaming</td>\n",
       "      <td>Creating an Anime Character: Step by Step</td>\n",
       "    </tr>\n",
       "    <tr>\n",
       "      <th>18</th>\n",
       "      <td>People &amp; Blogs</td>\n",
       "      <td>Adrenaline Rush: Extreme Parkour Adventures</td>\n",
       "    </tr>\n",
       "    <tr>\n",
       "      <th>19</th>\n",
       "      <td>Entertainment</td>\n",
       "      <td>Rediscovering Cinema Classics: 'Gone with the ...</td>\n",
       "    </tr>\n",
       "    <tr>\n",
       "      <th>20</th>\n",
       "      <td>Gaming</td>\n",
       "      <td>Laugh Out Loud: Stand-Up Comedy Special</td>\n",
       "    </tr>\n",
       "    <tr>\n",
       "      <th>21</th>\n",
       "      <td>Entertainment</td>\n",
       "      <td>Inside the Amazon: A Documentary on Rainforest...</td>\n",
       "    </tr>\n",
       "    <tr>\n",
       "      <th>22</th>\n",
       "      <td>Entertainment</td>\n",
       "      <td>Award-Winning Drama: 'The Life of Pi' Analysis</td>\n",
       "    </tr>\n",
       "    <tr>\n",
       "      <th>23</th>\n",
       "      <td>Comedy</td>\n",
       "      <td>Family Adventures: Camping in the Wild</td>\n",
       "    </tr>\n",
       "    <tr>\n",
       "      <th>24</th>\n",
       "      <td>Entertainment</td>\n",
       "      <td>Exploring World Cinema: Best of French Films</td>\n",
       "    </tr>\n",
       "    <tr>\n",
       "      <th>25</th>\n",
       "      <td>Entertainment</td>\n",
       "      <td>Terrifying Nights: Exploring Haunted Houses</td>\n",
       "    </tr>\n",
       "    <tr>\n",
       "      <th>26</th>\n",
       "      <td>Entertainment</td>\n",
       "      <td>Sci-Fi Fan Theories: Exploring Alternate Unive...</td>\n",
       "    </tr>\n",
       "    <tr>\n",
       "      <th>27</th>\n",
       "      <td>Gaming</td>\n",
       "      <td>Crime Thriller Series: 'The Unseen Enemy'</td>\n",
       "    </tr>\n",
       "    <tr>\n",
       "      <th>28</th>\n",
       "      <td>Music</td>\n",
       "      <td>Life in a Minute: Award-Winning Short Film</td>\n",
       "    </tr>\n",
       "    <tr>\n",
       "      <th>29</th>\n",
       "      <td>Comedy</td>\n",
       "      <td>Behind the Scenes: The Making of a TV Show</td>\n",
       "    </tr>\n",
       "    <tr>\n",
       "      <th>30</th>\n",
       "      <td>Entertainment</td>\n",
       "      <td>Upcoming Movie Trailers: What's Hot in 2023</td>\n",
       "    </tr>\n",
       "  </tbody>\n",
       "</table>\n",
       "</div>"
      ],
      "text/plain": [
       "   Hypothetical Video Title                                 Predicted Category\n",
       "0          Autos & Vehicles     Ultimate Car Restoration: 1967 Mustang Rebirth\n",
       "1             Entertainment       The Journey of a Symphony: Behind the Scenes\n",
       "2             Entertainment        Puppy's First Day Home: A Heartwarming Tale\n",
       "3             Entertainment  Incredible Soccer Skills: Top 10 Goals of the ...\n",
       "4                     Music        The Haunted Lighthouse: A Short Horror Film\n",
       "5             Entertainment   Exploring the Hidden Gems of Bali: A Travel Vlog\n",
       "6                    Gaming  Epic Battle Royale Gameplay: Victory Against A...\n",
       "7            People & Blogs               Life of a Vlogger: Behind the Scenes\n",
       "8             Entertainment     The Art of Making Friends: A Social Experiment\n",
       "9                    Gaming  Stand-up Nights: Hilarious New Comedian on the...\n",
       "10            Entertainment      Celebrity Interviews: The Latest in Hollywood\n",
       "11           People & Blogs    Breaking News: Major Political Shifts Explained\n",
       "12            Howto & Style        DIY Home Decor: Transform Your Space Easily\n",
       "13            Entertainment  Revolutionizing Learning: New Educational Methods\n",
       "14           People & Blogs  The Future of AI: Discoveries That Could Chang...\n",
       "15     Science & Technology      Charity Event Highlights: Making a Difference\n",
       "16                   Gaming      Classic Cinema Review: 'Casablanca' Revisited\n",
       "17                   Gaming          Creating an Anime Character: Step by Step\n",
       "18           People & Blogs        Adrenaline Rush: Extreme Parkour Adventures\n",
       "19            Entertainment  Rediscovering Cinema Classics: 'Gone with the ...\n",
       "20                   Gaming            Laugh Out Loud: Stand-Up Comedy Special\n",
       "21            Entertainment  Inside the Amazon: A Documentary on Rainforest...\n",
       "22            Entertainment     Award-Winning Drama: 'The Life of Pi' Analysis\n",
       "23                   Comedy             Family Adventures: Camping in the Wild\n",
       "24            Entertainment       Exploring World Cinema: Best of French Films\n",
       "25            Entertainment        Terrifying Nights: Exploring Haunted Houses\n",
       "26            Entertainment  Sci-Fi Fan Theories: Exploring Alternate Unive...\n",
       "27                   Gaming          Crime Thriller Series: 'The Unseen Enemy'\n",
       "28                    Music         Life in a Minute: Award-Winning Short Film\n",
       "29                   Comedy         Behind the Scenes: The Making of a TV Show\n",
       "30            Entertainment        Upcoming Movie Trailers: What's Hot in 2023"
      ]
     },
     "execution_count": 56,
     "metadata": {},
     "output_type": "execute_result"
    }
   ],
   "source": [
    "# Random Forest\n",
    "FinalDFrfc"
   ]
  },
  {
   "cell_type": "code",
   "execution_count": 49,
   "metadata": {},
   "outputs": [
    {
     "data": {
      "text/html": [
       "<div>\n",
       "<style scoped>\n",
       "    .dataframe tbody tr th:only-of-type {\n",
       "        vertical-align: middle;\n",
       "    }\n",
       "\n",
       "    .dataframe tbody tr th {\n",
       "        vertical-align: top;\n",
       "    }\n",
       "\n",
       "    .dataframe thead th {\n",
       "        text-align: right;\n",
       "    }\n",
       "</style>\n",
       "<table border=\"1\" class=\"dataframe\">\n",
       "  <thead>\n",
       "    <tr style=\"text-align: right;\">\n",
       "      <th></th>\n",
       "      <th>Hypothetical Video Title</th>\n",
       "      <th>Predicted Category</th>\n",
       "    </tr>\n",
       "  </thead>\n",
       "  <tbody>\n",
       "    <tr>\n",
       "      <th>0</th>\n",
       "      <td>Autos &amp; Vehicles</td>\n",
       "      <td>Ultimate Car Restoration: 1967 Mustang Rebirth</td>\n",
       "    </tr>\n",
       "    <tr>\n",
       "      <th>1</th>\n",
       "      <td>Education</td>\n",
       "      <td>The Journey of a Symphony: Behind the Scenes</td>\n",
       "    </tr>\n",
       "    <tr>\n",
       "      <th>2</th>\n",
       "      <td>Entertainment</td>\n",
       "      <td>Puppy's First Day Home: A Heartwarming Tale</td>\n",
       "    </tr>\n",
       "    <tr>\n",
       "      <th>3</th>\n",
       "      <td>People &amp; Blogs</td>\n",
       "      <td>Incredible Soccer Skills: Top 10 Goals of the ...</td>\n",
       "    </tr>\n",
       "    <tr>\n",
       "      <th>4</th>\n",
       "      <td>Film &amp; Animation</td>\n",
       "      <td>The Haunted Lighthouse: A Short Horror Film</td>\n",
       "    </tr>\n",
       "    <tr>\n",
       "      <th>5</th>\n",
       "      <td>People &amp; Blogs</td>\n",
       "      <td>Exploring the Hidden Gems of Bali: A Travel Vlog</td>\n",
       "    </tr>\n",
       "    <tr>\n",
       "      <th>6</th>\n",
       "      <td>Sports</td>\n",
       "      <td>Epic Battle Royale Gameplay: Victory Against A...</td>\n",
       "    </tr>\n",
       "    <tr>\n",
       "      <th>7</th>\n",
       "      <td>Entertainment</td>\n",
       "      <td>Life of a Vlogger: Behind the Scenes</td>\n",
       "    </tr>\n",
       "    <tr>\n",
       "      <th>8</th>\n",
       "      <td>Entertainment</td>\n",
       "      <td>The Art of Making Friends: A Social Experiment</td>\n",
       "    </tr>\n",
       "    <tr>\n",
       "      <th>9</th>\n",
       "      <td>Gaming</td>\n",
       "      <td>Stand-up Nights: Hilarious New Comedian on the...</td>\n",
       "    </tr>\n",
       "    <tr>\n",
       "      <th>10</th>\n",
       "      <td>Entertainment</td>\n",
       "      <td>Celebrity Interviews: The Latest in Hollywood</td>\n",
       "    </tr>\n",
       "    <tr>\n",
       "      <th>11</th>\n",
       "      <td>Entertainment</td>\n",
       "      <td>Breaking News: Major Political Shifts Explained</td>\n",
       "    </tr>\n",
       "    <tr>\n",
       "      <th>12</th>\n",
       "      <td>Howto &amp; Style</td>\n",
       "      <td>DIY Home Decor: Transform Your Space Easily</td>\n",
       "    </tr>\n",
       "    <tr>\n",
       "      <th>13</th>\n",
       "      <td>Gaming</td>\n",
       "      <td>Revolutionizing Learning: New Educational Methods</td>\n",
       "    </tr>\n",
       "    <tr>\n",
       "      <th>14</th>\n",
       "      <td>Education</td>\n",
       "      <td>The Future of AI: Discoveries That Could Chang...</td>\n",
       "    </tr>\n",
       "    <tr>\n",
       "      <th>15</th>\n",
       "      <td>Science &amp; Technology</td>\n",
       "      <td>Charity Event Highlights: Making a Difference</td>\n",
       "    </tr>\n",
       "    <tr>\n",
       "      <th>16</th>\n",
       "      <td>Gaming</td>\n",
       "      <td>Classic Cinema Review: 'Casablanca' Revisited</td>\n",
       "    </tr>\n",
       "    <tr>\n",
       "      <th>17</th>\n",
       "      <td>People &amp; Blogs</td>\n",
       "      <td>Creating an Anime Character: Step by Step</td>\n",
       "    </tr>\n",
       "    <tr>\n",
       "      <th>18</th>\n",
       "      <td>Entertainment</td>\n",
       "      <td>Adrenaline Rush: Extreme Parkour Adventures</td>\n",
       "    </tr>\n",
       "    <tr>\n",
       "      <th>19</th>\n",
       "      <td>Entertainment</td>\n",
       "      <td>Rediscovering Cinema Classics: 'Gone with the ...</td>\n",
       "    </tr>\n",
       "    <tr>\n",
       "      <th>20</th>\n",
       "      <td>Comedy</td>\n",
       "      <td>Laugh Out Loud: Stand-Up Comedy Special</td>\n",
       "    </tr>\n",
       "    <tr>\n",
       "      <th>21</th>\n",
       "      <td>Entertainment</td>\n",
       "      <td>Inside the Amazon: A Documentary on Rainforest...</td>\n",
       "    </tr>\n",
       "    <tr>\n",
       "      <th>22</th>\n",
       "      <td>Entertainment</td>\n",
       "      <td>Award-Winning Drama: 'The Life of Pi' Analysis</td>\n",
       "    </tr>\n",
       "    <tr>\n",
       "      <th>23</th>\n",
       "      <td>Entertainment</td>\n",
       "      <td>Family Adventures: Camping in the Wild</td>\n",
       "    </tr>\n",
       "    <tr>\n",
       "      <th>24</th>\n",
       "      <td>Gaming</td>\n",
       "      <td>Exploring World Cinema: Best of French Films</td>\n",
       "    </tr>\n",
       "    <tr>\n",
       "      <th>25</th>\n",
       "      <td>Entertainment</td>\n",
       "      <td>Terrifying Nights: Exploring Haunted Houses</td>\n",
       "    </tr>\n",
       "    <tr>\n",
       "      <th>26</th>\n",
       "      <td>Entertainment</td>\n",
       "      <td>Sci-Fi Fan Theories: Exploring Alternate Unive...</td>\n",
       "    </tr>\n",
       "    <tr>\n",
       "      <th>27</th>\n",
       "      <td>Gaming</td>\n",
       "      <td>Crime Thriller Series: 'The Unseen Enemy'</td>\n",
       "    </tr>\n",
       "    <tr>\n",
       "      <th>28</th>\n",
       "      <td>Entertainment</td>\n",
       "      <td>Life in a Minute: Award-Winning Short Film</td>\n",
       "    </tr>\n",
       "    <tr>\n",
       "      <th>29</th>\n",
       "      <td>Comedy</td>\n",
       "      <td>Behind the Scenes: The Making of a TV Show</td>\n",
       "    </tr>\n",
       "    <tr>\n",
       "      <th>30</th>\n",
       "      <td>Entertainment</td>\n",
       "      <td>Upcoming Movie Trailers: What's Hot in 2023</td>\n",
       "    </tr>\n",
       "  </tbody>\n",
       "</table>\n",
       "</div>"
      ],
      "text/plain": [
       "   Hypothetical Video Title                                 Predicted Category\n",
       "0          Autos & Vehicles     Ultimate Car Restoration: 1967 Mustang Rebirth\n",
       "1                 Education       The Journey of a Symphony: Behind the Scenes\n",
       "2             Entertainment        Puppy's First Day Home: A Heartwarming Tale\n",
       "3            People & Blogs  Incredible Soccer Skills: Top 10 Goals of the ...\n",
       "4          Film & Animation        The Haunted Lighthouse: A Short Horror Film\n",
       "5            People & Blogs   Exploring the Hidden Gems of Bali: A Travel Vlog\n",
       "6                    Sports  Epic Battle Royale Gameplay: Victory Against A...\n",
       "7             Entertainment               Life of a Vlogger: Behind the Scenes\n",
       "8             Entertainment     The Art of Making Friends: A Social Experiment\n",
       "9                    Gaming  Stand-up Nights: Hilarious New Comedian on the...\n",
       "10            Entertainment      Celebrity Interviews: The Latest in Hollywood\n",
       "11            Entertainment    Breaking News: Major Political Shifts Explained\n",
       "12            Howto & Style        DIY Home Decor: Transform Your Space Easily\n",
       "13                   Gaming  Revolutionizing Learning: New Educational Methods\n",
       "14                Education  The Future of AI: Discoveries That Could Chang...\n",
       "15     Science & Technology      Charity Event Highlights: Making a Difference\n",
       "16                   Gaming      Classic Cinema Review: 'Casablanca' Revisited\n",
       "17           People & Blogs          Creating an Anime Character: Step by Step\n",
       "18            Entertainment        Adrenaline Rush: Extreme Parkour Adventures\n",
       "19            Entertainment  Rediscovering Cinema Classics: 'Gone with the ...\n",
       "20                   Comedy            Laugh Out Loud: Stand-Up Comedy Special\n",
       "21            Entertainment  Inside the Amazon: A Documentary on Rainforest...\n",
       "22            Entertainment     Award-Winning Drama: 'The Life of Pi' Analysis\n",
       "23            Entertainment             Family Adventures: Camping in the Wild\n",
       "24                   Gaming       Exploring World Cinema: Best of French Films\n",
       "25            Entertainment        Terrifying Nights: Exploring Haunted Houses\n",
       "26            Entertainment  Sci-Fi Fan Theories: Exploring Alternate Unive...\n",
       "27                   Gaming          Crime Thriller Series: 'The Unseen Enemy'\n",
       "28            Entertainment         Life in a Minute: Award-Winning Short Film\n",
       "29                   Comedy         Behind the Scenes: The Making of a TV Show\n",
       "30            Entertainment        Upcoming Movie Trailers: What's Hot in 2023"
      ]
     },
     "execution_count": 49,
     "metadata": {},
     "output_type": "execute_result"
    }
   ],
   "source": [
    "# SVC\n",
    "FinalDFsvc"
   ]
  },
  {
   "cell_type": "code",
   "execution_count": 50,
   "metadata": {},
   "outputs": [
    {
     "data": {
      "text/html": [
       "<div>\n",
       "<style scoped>\n",
       "    .dataframe tbody tr th:only-of-type {\n",
       "        vertical-align: middle;\n",
       "    }\n",
       "\n",
       "    .dataframe tbody tr th {\n",
       "        vertical-align: top;\n",
       "    }\n",
       "\n",
       "    .dataframe thead th {\n",
       "        text-align: right;\n",
       "    }\n",
       "</style>\n",
       "<table border=\"1\" class=\"dataframe\">\n",
       "  <thead>\n",
       "    <tr style=\"text-align: right;\">\n",
       "      <th></th>\n",
       "      <th>Hypothetical Video Title</th>\n",
       "      <th>Predicted Category</th>\n",
       "    </tr>\n",
       "  </thead>\n",
       "  <tbody>\n",
       "    <tr>\n",
       "      <th>0</th>\n",
       "      <td>Entertainment</td>\n",
       "      <td>Ultimate Car Restoration: 1967 Mustang Rebirth</td>\n",
       "    </tr>\n",
       "    <tr>\n",
       "      <th>1</th>\n",
       "      <td>Sports</td>\n",
       "      <td>The Journey of a Symphony: Behind the Scenes</td>\n",
       "    </tr>\n",
       "    <tr>\n",
       "      <th>2</th>\n",
       "      <td>Music</td>\n",
       "      <td>Puppy's First Day Home: A Heartwarming Tale</td>\n",
       "    </tr>\n",
       "    <tr>\n",
       "      <th>3</th>\n",
       "      <td>Music</td>\n",
       "      <td>Incredible Soccer Skills: Top 10 Goals of the ...</td>\n",
       "    </tr>\n",
       "    <tr>\n",
       "      <th>4</th>\n",
       "      <td>People &amp; Blogs</td>\n",
       "      <td>The Haunted Lighthouse: A Short Horror Film</td>\n",
       "    </tr>\n",
       "    <tr>\n",
       "      <th>5</th>\n",
       "      <td>People &amp; Blogs</td>\n",
       "      <td>Exploring the Hidden Gems of Bali: A Travel Vlog</td>\n",
       "    </tr>\n",
       "    <tr>\n",
       "      <th>6</th>\n",
       "      <td>Sports</td>\n",
       "      <td>Epic Battle Royale Gameplay: Victory Against A...</td>\n",
       "    </tr>\n",
       "    <tr>\n",
       "      <th>7</th>\n",
       "      <td>Film &amp; Animation</td>\n",
       "      <td>Life of a Vlogger: Behind the Scenes</td>\n",
       "    </tr>\n",
       "    <tr>\n",
       "      <th>8</th>\n",
       "      <td>Comedy</td>\n",
       "      <td>The Art of Making Friends: A Social Experiment</td>\n",
       "    </tr>\n",
       "    <tr>\n",
       "      <th>9</th>\n",
       "      <td>People &amp; Blogs</td>\n",
       "      <td>Stand-up Nights: Hilarious New Comedian on the...</td>\n",
       "    </tr>\n",
       "    <tr>\n",
       "      <th>10</th>\n",
       "      <td>Entertainment</td>\n",
       "      <td>Celebrity Interviews: The Latest in Hollywood</td>\n",
       "    </tr>\n",
       "    <tr>\n",
       "      <th>11</th>\n",
       "      <td>People &amp; Blogs</td>\n",
       "      <td>Breaking News: Major Political Shifts Explained</td>\n",
       "    </tr>\n",
       "    <tr>\n",
       "      <th>12</th>\n",
       "      <td>Comedy</td>\n",
       "      <td>DIY Home Decor: Transform Your Space Easily</td>\n",
       "    </tr>\n",
       "    <tr>\n",
       "      <th>13</th>\n",
       "      <td>People &amp; Blogs</td>\n",
       "      <td>Revolutionizing Learning: New Educational Methods</td>\n",
       "    </tr>\n",
       "    <tr>\n",
       "      <th>14</th>\n",
       "      <td>Entertainment</td>\n",
       "      <td>The Future of AI: Discoveries That Could Chang...</td>\n",
       "    </tr>\n",
       "    <tr>\n",
       "      <th>15</th>\n",
       "      <td>Music</td>\n",
       "      <td>Charity Event Highlights: Making a Difference</td>\n",
       "    </tr>\n",
       "    <tr>\n",
       "      <th>16</th>\n",
       "      <td>Music</td>\n",
       "      <td>Classic Cinema Review: 'Casablanca' Revisited</td>\n",
       "    </tr>\n",
       "    <tr>\n",
       "      <th>17</th>\n",
       "      <td>Gaming</td>\n",
       "      <td>Creating an Anime Character: Step by Step</td>\n",
       "    </tr>\n",
       "    <tr>\n",
       "      <th>18</th>\n",
       "      <td>People &amp; Blogs</td>\n",
       "      <td>Adrenaline Rush: Extreme Parkour Adventures</td>\n",
       "    </tr>\n",
       "    <tr>\n",
       "      <th>19</th>\n",
       "      <td>Music</td>\n",
       "      <td>Rediscovering Cinema Classics: 'Gone with the ...</td>\n",
       "    </tr>\n",
       "    <tr>\n",
       "      <th>20</th>\n",
       "      <td>Music</td>\n",
       "      <td>Laugh Out Loud: Stand-Up Comedy Special</td>\n",
       "    </tr>\n",
       "    <tr>\n",
       "      <th>21</th>\n",
       "      <td>People &amp; Blogs</td>\n",
       "      <td>Inside the Amazon: A Documentary on Rainforest...</td>\n",
       "    </tr>\n",
       "    <tr>\n",
       "      <th>22</th>\n",
       "      <td>Film &amp; Animation</td>\n",
       "      <td>Award-Winning Drama: 'The Life of Pi' Analysis</td>\n",
       "    </tr>\n",
       "    <tr>\n",
       "      <th>23</th>\n",
       "      <td>Comedy</td>\n",
       "      <td>Family Adventures: Camping in the Wild</td>\n",
       "    </tr>\n",
       "    <tr>\n",
       "      <th>24</th>\n",
       "      <td>Music</td>\n",
       "      <td>Exploring World Cinema: Best of French Films</td>\n",
       "    </tr>\n",
       "    <tr>\n",
       "      <th>25</th>\n",
       "      <td>People &amp; Blogs</td>\n",
       "      <td>Terrifying Nights: Exploring Haunted Houses</td>\n",
       "    </tr>\n",
       "    <tr>\n",
       "      <th>26</th>\n",
       "      <td>People &amp; Blogs</td>\n",
       "      <td>Sci-Fi Fan Theories: Exploring Alternate Unive...</td>\n",
       "    </tr>\n",
       "    <tr>\n",
       "      <th>27</th>\n",
       "      <td>People &amp; Blogs</td>\n",
       "      <td>Crime Thriller Series: 'The Unseen Enemy'</td>\n",
       "    </tr>\n",
       "    <tr>\n",
       "      <th>28</th>\n",
       "      <td>News &amp; Politics</td>\n",
       "      <td>Life in a Minute: Award-Winning Short Film</td>\n",
       "    </tr>\n",
       "    <tr>\n",
       "      <th>29</th>\n",
       "      <td>Sports</td>\n",
       "      <td>Behind the Scenes: The Making of a TV Show</td>\n",
       "    </tr>\n",
       "    <tr>\n",
       "      <th>30</th>\n",
       "      <td>Comedy</td>\n",
       "      <td>Upcoming Movie Trailers: What's Hot in 2023</td>\n",
       "    </tr>\n",
       "  </tbody>\n",
       "</table>\n",
       "</div>"
      ],
      "text/plain": [
       "   Hypothetical Video Title                                 Predicted Category\n",
       "0             Entertainment     Ultimate Car Restoration: 1967 Mustang Rebirth\n",
       "1                    Sports       The Journey of a Symphony: Behind the Scenes\n",
       "2                     Music        Puppy's First Day Home: A Heartwarming Tale\n",
       "3                     Music  Incredible Soccer Skills: Top 10 Goals of the ...\n",
       "4            People & Blogs        The Haunted Lighthouse: A Short Horror Film\n",
       "5            People & Blogs   Exploring the Hidden Gems of Bali: A Travel Vlog\n",
       "6                    Sports  Epic Battle Royale Gameplay: Victory Against A...\n",
       "7          Film & Animation               Life of a Vlogger: Behind the Scenes\n",
       "8                    Comedy     The Art of Making Friends: A Social Experiment\n",
       "9            People & Blogs  Stand-up Nights: Hilarious New Comedian on the...\n",
       "10            Entertainment      Celebrity Interviews: The Latest in Hollywood\n",
       "11           People & Blogs    Breaking News: Major Political Shifts Explained\n",
       "12                   Comedy        DIY Home Decor: Transform Your Space Easily\n",
       "13           People & Blogs  Revolutionizing Learning: New Educational Methods\n",
       "14            Entertainment  The Future of AI: Discoveries That Could Chang...\n",
       "15                    Music      Charity Event Highlights: Making a Difference\n",
       "16                    Music      Classic Cinema Review: 'Casablanca' Revisited\n",
       "17                   Gaming          Creating an Anime Character: Step by Step\n",
       "18           People & Blogs        Adrenaline Rush: Extreme Parkour Adventures\n",
       "19                    Music  Rediscovering Cinema Classics: 'Gone with the ...\n",
       "20                    Music            Laugh Out Loud: Stand-Up Comedy Special\n",
       "21           People & Blogs  Inside the Amazon: A Documentary on Rainforest...\n",
       "22         Film & Animation     Award-Winning Drama: 'The Life of Pi' Analysis\n",
       "23                   Comedy             Family Adventures: Camping in the Wild\n",
       "24                    Music       Exploring World Cinema: Best of French Films\n",
       "25           People & Blogs        Terrifying Nights: Exploring Haunted Houses\n",
       "26           People & Blogs  Sci-Fi Fan Theories: Exploring Alternate Unive...\n",
       "27           People & Blogs          Crime Thriller Series: 'The Unseen Enemy'\n",
       "28          News & Politics         Life in a Minute: Award-Winning Short Film\n",
       "29                   Sports         Behind the Scenes: The Making of a TV Show\n",
       "30                   Comedy        Upcoming Movie Trailers: What's Hot in 2023"
      ]
     },
     "execution_count": 50,
     "metadata": {},
     "output_type": "execute_result"
    }
   ],
   "source": [
    "# K Neighbors\n",
    "FinalDFknc"
   ]
  },
  {
   "cell_type": "code",
   "execution_count": 51,
   "metadata": {},
   "outputs": [
    {
     "data": {
      "text/html": [
       "<div>\n",
       "<style scoped>\n",
       "    .dataframe tbody tr th:only-of-type {\n",
       "        vertical-align: middle;\n",
       "    }\n",
       "\n",
       "    .dataframe tbody tr th {\n",
       "        vertical-align: top;\n",
       "    }\n",
       "\n",
       "    .dataframe thead th {\n",
       "        text-align: right;\n",
       "    }\n",
       "</style>\n",
       "<table border=\"1\" class=\"dataframe\">\n",
       "  <thead>\n",
       "    <tr style=\"text-align: right;\">\n",
       "      <th></th>\n",
       "      <th>Hypothetical Video Title</th>\n",
       "      <th>Predicted Category</th>\n",
       "    </tr>\n",
       "  </thead>\n",
       "  <tbody>\n",
       "    <tr>\n",
       "      <th>0</th>\n",
       "      <td>Autos &amp; Vehicles</td>\n",
       "      <td>Ultimate Car Restoration: 1967 Mustang Rebirth</td>\n",
       "    </tr>\n",
       "    <tr>\n",
       "      <th>1</th>\n",
       "      <td>Entertainment</td>\n",
       "      <td>The Journey of a Symphony: Behind the Scenes</td>\n",
       "    </tr>\n",
       "    <tr>\n",
       "      <th>2</th>\n",
       "      <td>Entertainment</td>\n",
       "      <td>Puppy's First Day Home: A Heartwarming Tale</td>\n",
       "    </tr>\n",
       "    <tr>\n",
       "      <th>3</th>\n",
       "      <td>Entertainment</td>\n",
       "      <td>Incredible Soccer Skills: Top 10 Goals of the ...</td>\n",
       "    </tr>\n",
       "    <tr>\n",
       "      <th>4</th>\n",
       "      <td>Music</td>\n",
       "      <td>The Haunted Lighthouse: A Short Horror Film</td>\n",
       "    </tr>\n",
       "    <tr>\n",
       "      <th>5</th>\n",
       "      <td>Comedy</td>\n",
       "      <td>Exploring the Hidden Gems of Bali: A Travel Vlog</td>\n",
       "    </tr>\n",
       "    <tr>\n",
       "      <th>6</th>\n",
       "      <td>Gaming</td>\n",
       "      <td>Epic Battle Royale Gameplay: Victory Against A...</td>\n",
       "    </tr>\n",
       "    <tr>\n",
       "      <th>7</th>\n",
       "      <td>Education</td>\n",
       "      <td>Life of a Vlogger: Behind the Scenes</td>\n",
       "    </tr>\n",
       "    <tr>\n",
       "      <th>8</th>\n",
       "      <td>Entertainment</td>\n",
       "      <td>The Art of Making Friends: A Social Experiment</td>\n",
       "    </tr>\n",
       "    <tr>\n",
       "      <th>9</th>\n",
       "      <td>Entertainment</td>\n",
       "      <td>Stand-up Nights: Hilarious New Comedian on the...</td>\n",
       "    </tr>\n",
       "    <tr>\n",
       "      <th>10</th>\n",
       "      <td>Entertainment</td>\n",
       "      <td>Celebrity Interviews: The Latest in Hollywood</td>\n",
       "    </tr>\n",
       "    <tr>\n",
       "      <th>11</th>\n",
       "      <td>Music</td>\n",
       "      <td>Breaking News: Major Political Shifts Explained</td>\n",
       "    </tr>\n",
       "    <tr>\n",
       "      <th>12</th>\n",
       "      <td>Howto &amp; Style</td>\n",
       "      <td>DIY Home Decor: Transform Your Space Easily</td>\n",
       "    </tr>\n",
       "    <tr>\n",
       "      <th>13</th>\n",
       "      <td>Entertainment</td>\n",
       "      <td>Revolutionizing Learning: New Educational Methods</td>\n",
       "    </tr>\n",
       "    <tr>\n",
       "      <th>14</th>\n",
       "      <td>Entertainment</td>\n",
       "      <td>The Future of AI: Discoveries That Could Chang...</td>\n",
       "    </tr>\n",
       "    <tr>\n",
       "      <th>15</th>\n",
       "      <td>Science &amp; Technology</td>\n",
       "      <td>Charity Event Highlights: Making a Difference</td>\n",
       "    </tr>\n",
       "    <tr>\n",
       "      <th>16</th>\n",
       "      <td>Gaming</td>\n",
       "      <td>Classic Cinema Review: 'Casablanca' Revisited</td>\n",
       "    </tr>\n",
       "    <tr>\n",
       "      <th>17</th>\n",
       "      <td>Gaming</td>\n",
       "      <td>Creating an Anime Character: Step by Step</td>\n",
       "    </tr>\n",
       "    <tr>\n",
       "      <th>18</th>\n",
       "      <td>Science &amp; Technology</td>\n",
       "      <td>Adrenaline Rush: Extreme Parkour Adventures</td>\n",
       "    </tr>\n",
       "    <tr>\n",
       "      <th>19</th>\n",
       "      <td>Entertainment</td>\n",
       "      <td>Rediscovering Cinema Classics: 'Gone with the ...</td>\n",
       "    </tr>\n",
       "    <tr>\n",
       "      <th>20</th>\n",
       "      <td>Comedy</td>\n",
       "      <td>Laugh Out Loud: Stand-Up Comedy Special</td>\n",
       "    </tr>\n",
       "    <tr>\n",
       "      <th>21</th>\n",
       "      <td>Comedy</td>\n",
       "      <td>Inside the Amazon: A Documentary on Rainforest...</td>\n",
       "    </tr>\n",
       "    <tr>\n",
       "      <th>22</th>\n",
       "      <td>Entertainment</td>\n",
       "      <td>Award-Winning Drama: 'The Life of Pi' Analysis</td>\n",
       "    </tr>\n",
       "    <tr>\n",
       "      <th>23</th>\n",
       "      <td>Comedy</td>\n",
       "      <td>Family Adventures: Camping in the Wild</td>\n",
       "    </tr>\n",
       "    <tr>\n",
       "      <th>24</th>\n",
       "      <td>Howto &amp; Style</td>\n",
       "      <td>Exploring World Cinema: Best of French Films</td>\n",
       "    </tr>\n",
       "    <tr>\n",
       "      <th>25</th>\n",
       "      <td>Entertainment</td>\n",
       "      <td>Terrifying Nights: Exploring Haunted Houses</td>\n",
       "    </tr>\n",
       "    <tr>\n",
       "      <th>26</th>\n",
       "      <td>Entertainment</td>\n",
       "      <td>Sci-Fi Fan Theories: Exploring Alternate Unive...</td>\n",
       "    </tr>\n",
       "    <tr>\n",
       "      <th>27</th>\n",
       "      <td>Science &amp; Technology</td>\n",
       "      <td>Crime Thriller Series: 'The Unseen Enemy'</td>\n",
       "    </tr>\n",
       "    <tr>\n",
       "      <th>28</th>\n",
       "      <td>Entertainment</td>\n",
       "      <td>Life in a Minute: Award-Winning Short Film</td>\n",
       "    </tr>\n",
       "    <tr>\n",
       "      <th>29</th>\n",
       "      <td>Comedy</td>\n",
       "      <td>Behind the Scenes: The Making of a TV Show</td>\n",
       "    </tr>\n",
       "    <tr>\n",
       "      <th>30</th>\n",
       "      <td>Film &amp; Animation</td>\n",
       "      <td>Upcoming Movie Trailers: What's Hot in 2023</td>\n",
       "    </tr>\n",
       "  </tbody>\n",
       "</table>\n",
       "</div>"
      ],
      "text/plain": [
       "   Hypothetical Video Title                                 Predicted Category\n",
       "0          Autos & Vehicles     Ultimate Car Restoration: 1967 Mustang Rebirth\n",
       "1             Entertainment       The Journey of a Symphony: Behind the Scenes\n",
       "2             Entertainment        Puppy's First Day Home: A Heartwarming Tale\n",
       "3             Entertainment  Incredible Soccer Skills: Top 10 Goals of the ...\n",
       "4                     Music        The Haunted Lighthouse: A Short Horror Film\n",
       "5                    Comedy   Exploring the Hidden Gems of Bali: A Travel Vlog\n",
       "6                    Gaming  Epic Battle Royale Gameplay: Victory Against A...\n",
       "7                 Education               Life of a Vlogger: Behind the Scenes\n",
       "8             Entertainment     The Art of Making Friends: A Social Experiment\n",
       "9             Entertainment  Stand-up Nights: Hilarious New Comedian on the...\n",
       "10            Entertainment      Celebrity Interviews: The Latest in Hollywood\n",
       "11                    Music    Breaking News: Major Political Shifts Explained\n",
       "12            Howto & Style        DIY Home Decor: Transform Your Space Easily\n",
       "13            Entertainment  Revolutionizing Learning: New Educational Methods\n",
       "14            Entertainment  The Future of AI: Discoveries That Could Chang...\n",
       "15     Science & Technology      Charity Event Highlights: Making a Difference\n",
       "16                   Gaming      Classic Cinema Review: 'Casablanca' Revisited\n",
       "17                   Gaming          Creating an Anime Character: Step by Step\n",
       "18     Science & Technology        Adrenaline Rush: Extreme Parkour Adventures\n",
       "19            Entertainment  Rediscovering Cinema Classics: 'Gone with the ...\n",
       "20                   Comedy            Laugh Out Loud: Stand-Up Comedy Special\n",
       "21                   Comedy  Inside the Amazon: A Documentary on Rainforest...\n",
       "22            Entertainment     Award-Winning Drama: 'The Life of Pi' Analysis\n",
       "23                   Comedy             Family Adventures: Camping in the Wild\n",
       "24            Howto & Style       Exploring World Cinema: Best of French Films\n",
       "25            Entertainment        Terrifying Nights: Exploring Haunted Houses\n",
       "26            Entertainment  Sci-Fi Fan Theories: Exploring Alternate Unive...\n",
       "27     Science & Technology          Crime Thriller Series: 'The Unseen Enemy'\n",
       "28            Entertainment         Life in a Minute: Award-Winning Short Film\n",
       "29                   Comedy         Behind the Scenes: The Making of a TV Show\n",
       "30         Film & Animation        Upcoming Movie Trailers: What's Hot in 2023"
      ]
     },
     "execution_count": 51,
     "metadata": {},
     "output_type": "execute_result"
    }
   ],
   "source": [
    "# Decision Trees\n",
    "FinalDFdtc"
   ]
  },
  {
   "cell_type": "code",
   "execution_count": null,
   "metadata": {},
   "outputs": [],
   "source": []
  }
 ],
 "metadata": {
  "kernelspec": {
   "display_name": "Python 3 (ipykernel)",
   "language": "python",
   "name": "python3"
  },
  "language_info": {
   "codemirror_mode": {
    "name": "ipython",
    "version": 3
   },
   "file_extension": ".py",
   "mimetype": "text/x-python",
   "name": "python",
   "nbconvert_exporter": "python",
   "pygments_lexer": "ipython3",
   "version": "3.11.4"
  }
 },
 "nbformat": 4,
 "nbformat_minor": 2
}
